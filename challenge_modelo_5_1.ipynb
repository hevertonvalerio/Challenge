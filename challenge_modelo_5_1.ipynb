{
  "nbformat": 4,
  "nbformat_minor": 0,
  "metadata": {
    "colab": {
      "provenance": [],
      "toc_visible": true,
      "include_colab_link": true
    },
    "kernelspec": {
      "name": "python3",
      "display_name": "Python 3"
    },
    "language_info": {
      "name": "python"
    }
  },
  "cells": [
    {
      "cell_type": "markdown",
      "metadata": {
        "id": "view-in-github",
        "colab_type": "text"
      },
      "source": [
        "<a href=\"https://colab.research.google.com/github/hevertonvalerio/Challenge/blob/main/challenge_modelo_5_1.ipynb\" target=\"_parent\"><img src=\"https://colab.research.google.com/assets/colab-badge.svg\" alt=\"Open In Colab\"/></a>"
      ]
    },
    {
      "cell_type": "markdown",
      "source": [
        "#1"
      ],
      "metadata": {
        "id": "gVuxGVHV-IOI"
      }
    },
    {
      "cell_type": "markdown",
      "source": [
        "#### **5. Aprendizado de Máquina**\n",
        "---\n",
        "\n",
        "Neste capítulo você irá aprender:\n",
        "\n",
        "1. O que é o Aprendizado de Máquina Supervisionado\n",
        "2. Como aplicar modelos Aprendizado de Máquina para estimar Funções e Séries Temporais com os estimadores do `Scikit-Learn`\n",
        "2. E como podem ser empregados modelos de Deep Learning para previsão de Séries Temporais a partir de um exemplo com `PyTorch`\n",
        "\n",
        "\n"
      ],
      "metadata": {
        "id": "hqUq6XzdIAwu"
      }
    },
    {
      "cell_type": "markdown",
      "source": [
        "Modelos de Aprendizado de Máquina, ou ML (*Machine Learning*), são aplicados a uma série de tarefas como identificação de fraudes em cartões de crédito e a recomendação de produtos no *e-commerce*, até sistemas para precificação e a previsão do tempo.\n",
        "\n",
        "Esses modelos também vêm sendo aplicados com sucesso na previsão de Séries Temporais bastante complexas. Eles não têm a necessidade de assumir modelos aditivos ou multiplicativos, e nem eliminar tendências ou sazonalidades para serem aplicados. São bastante fáceis de usar estimando um grande conjunto de Séries com pouca ou quase nenhuma informação sobre sua estrutura (tendência, sazonalidade, periodicidade etc.), embora, essa falta de poder explicativo dos modelos de ML seja em muitos casos uma desvantagem desses modelos.\n",
        "\n",
        "Apesar deste texto ser uma introdução ao tema de Séries Temporais, o uso recentes desses modelos vem crescendo em vários seguimentos, da predição de demanda de produtos à aplicações em ciência, telecomunicações e medicina, com soluções suportadas por grandes empresas de tecnologia como Meta (`Prophet`,`Neuralprophet`, `PyTorch`) e Google (`TensorFlow`). Assim, incluímos este capítulo para você conhecer esses modelos e algumas de suas aplicações, mesmo sendo um conteúdo que você não irá encontrar nos textos mais tradicionais da área.\n",
        "\n",
        "\n",
        "\n",
        "\n",
        "\n",
        "\n"
      ],
      "metadata": {
        "id": "deECOrSsFKcA"
      }
    },
    {
      "cell_type": "code",
      "source": [
        "##@markdown `imports`\n",
        "import numpy as np\n",
        "import pandas as pd\n",
        "import matplotlib.pyplot as plt\n",
        "%matplotlib inline\n",
        "import seaborn as sns\n",
        "import matplotlib.ticker as ticker\n",
        "\n",
        "from datetime import datetime as dt\n",
        "\n",
        "path_data = 'https://github.com/Introducao-Series-Temporais-em-Python/Book/raw/main/Data/'\n",
        "plt.style.use([ 'grayscale' , 'https://github.com/Introducao-Series-Temporais-em-Python/Book/raw/main/tsp.mplstyle' ])\n",
        "\n",
        "## Para ver os parâmetros empregados aqui\n",
        "## plt.rcParams\n",
        "## plt.rcParams['figure.figsize']"
      ],
      "metadata": {
        "id": "oiXYMYIMLG-I"
      },
      "execution_count": null,
      "outputs": []
    },
    {
      "cell_type": "code",
      "source": [
        "##Backup\n",
        "\n",
        "##bikes = pd.read_csv(path_data + 'dados_bike.csv')\n",
        "##df = bikes.copy()\n",
        "##df.head()\n"
      ],
      "metadata": {
        "id": "PK4ZWS50P1Jf"
      },
      "execution_count": null,
      "outputs": []
    },
    {
      "cell_type": "markdown",
      "source": [
        "----"
      ],
      "metadata": {
        "id": "jIvLXGc-7bOx"
      }
    },
    {
      "cell_type": "code",
      "source": [
        "import yfinance as yf"
      ],
      "metadata": {
        "id": "zWlazb8dn5ag"
      },
      "execution_count": null,
      "outputs": []
    },
    {
      "cell_type": "code",
      "source": [
        "avir_df = yf.download('LMND', start = '2024-01-02')\n",
        "\n",
        "avir_df = avir_df[['Close']].rename(columns = {'Close':'AVIR'})\n",
        "\n",
        "avir_df.index = pd.to_datetime(avir_df.index, format = '%Y-%m-%d')\n",
        "\n",
        "avir_df.head()"
      ],
      "metadata": {
        "colab": {
          "base_uri": "https://localhost:8080/",
          "height": 256
        },
        "id": "1gfa6tiCn11_",
        "outputId": "a1b82f1e-e849-43da-a5c8-64c02231d7fe"
      },
      "execution_count": null,
      "outputs": [
        {
          "output_type": "stream",
          "name": "stderr",
          "text": [
            "\r[*********************100%***********************]  1 of 1 completed\n"
          ]
        },
        {
          "output_type": "execute_result",
          "data": {
            "text/plain": [
              "                 AVIR\n",
              "Date                 \n",
              "2024-01-02  17.040001\n",
              "2024-01-03  16.219999\n",
              "2024-01-04  16.610001\n",
              "2024-01-05  16.549999\n",
              "2024-01-08  18.250000"
            ],
            "text/html": [
              "\n",
              "  <div id=\"df-10c18444-7aae-4668-b12b-82205f846848\" class=\"colab-df-container\">\n",
              "    <div>\n",
              "<style scoped>\n",
              "    .dataframe tbody tr th:only-of-type {\n",
              "        vertical-align: middle;\n",
              "    }\n",
              "\n",
              "    .dataframe tbody tr th {\n",
              "        vertical-align: top;\n",
              "    }\n",
              "\n",
              "    .dataframe thead th {\n",
              "        text-align: right;\n",
              "    }\n",
              "</style>\n",
              "<table border=\"1\" class=\"dataframe\">\n",
              "  <thead>\n",
              "    <tr style=\"text-align: right;\">\n",
              "      <th></th>\n",
              "      <th>AVIR</th>\n",
              "    </tr>\n",
              "    <tr>\n",
              "      <th>Date</th>\n",
              "      <th></th>\n",
              "    </tr>\n",
              "  </thead>\n",
              "  <tbody>\n",
              "    <tr>\n",
              "      <th>2024-01-02</th>\n",
              "      <td>17.040001</td>\n",
              "    </tr>\n",
              "    <tr>\n",
              "      <th>2024-01-03</th>\n",
              "      <td>16.219999</td>\n",
              "    </tr>\n",
              "    <tr>\n",
              "      <th>2024-01-04</th>\n",
              "      <td>16.610001</td>\n",
              "    </tr>\n",
              "    <tr>\n",
              "      <th>2024-01-05</th>\n",
              "      <td>16.549999</td>\n",
              "    </tr>\n",
              "    <tr>\n",
              "      <th>2024-01-08</th>\n",
              "      <td>18.250000</td>\n",
              "    </tr>\n",
              "  </tbody>\n",
              "</table>\n",
              "</div>\n",
              "    <div class=\"colab-df-buttons\">\n",
              "\n",
              "  <div class=\"colab-df-container\">\n",
              "    <button class=\"colab-df-convert\" onclick=\"convertToInteractive('df-10c18444-7aae-4668-b12b-82205f846848')\"\n",
              "            title=\"Convert this dataframe to an interactive table.\"\n",
              "            style=\"display:none;\">\n",
              "\n",
              "  <svg xmlns=\"http://www.w3.org/2000/svg\" height=\"24px\" viewBox=\"0 -960 960 960\">\n",
              "    <path d=\"M120-120v-720h720v720H120Zm60-500h600v-160H180v160Zm220 220h160v-160H400v160Zm0 220h160v-160H400v160ZM180-400h160v-160H180v160Zm440 0h160v-160H620v160ZM180-180h160v-160H180v160Zm440 0h160v-160H620v160Z\"/>\n",
              "  </svg>\n",
              "    </button>\n",
              "\n",
              "  <style>\n",
              "    .colab-df-container {\n",
              "      display:flex;\n",
              "      gap: 12px;\n",
              "    }\n",
              "\n",
              "    .colab-df-convert {\n",
              "      background-color: #E8F0FE;\n",
              "      border: none;\n",
              "      border-radius: 50%;\n",
              "      cursor: pointer;\n",
              "      display: none;\n",
              "      fill: #1967D2;\n",
              "      height: 32px;\n",
              "      padding: 0 0 0 0;\n",
              "      width: 32px;\n",
              "    }\n",
              "\n",
              "    .colab-df-convert:hover {\n",
              "      background-color: #E2EBFA;\n",
              "      box-shadow: 0px 1px 2px rgba(60, 64, 67, 0.3), 0px 1px 3px 1px rgba(60, 64, 67, 0.15);\n",
              "      fill: #174EA6;\n",
              "    }\n",
              "\n",
              "    .colab-df-buttons div {\n",
              "      margin-bottom: 4px;\n",
              "    }\n",
              "\n",
              "    [theme=dark] .colab-df-convert {\n",
              "      background-color: #3B4455;\n",
              "      fill: #D2E3FC;\n",
              "    }\n",
              "\n",
              "    [theme=dark] .colab-df-convert:hover {\n",
              "      background-color: #434B5C;\n",
              "      box-shadow: 0px 1px 3px 1px rgba(0, 0, 0, 0.15);\n",
              "      filter: drop-shadow(0px 1px 2px rgba(0, 0, 0, 0.3));\n",
              "      fill: #FFFFFF;\n",
              "    }\n",
              "  </style>\n",
              "\n",
              "    <script>\n",
              "      const buttonEl =\n",
              "        document.querySelector('#df-10c18444-7aae-4668-b12b-82205f846848 button.colab-df-convert');\n",
              "      buttonEl.style.display =\n",
              "        google.colab.kernel.accessAllowed ? 'block' : 'none';\n",
              "\n",
              "      async function convertToInteractive(key) {\n",
              "        const element = document.querySelector('#df-10c18444-7aae-4668-b12b-82205f846848');\n",
              "        const dataTable =\n",
              "          await google.colab.kernel.invokeFunction('convertToInteractive',\n",
              "                                                    [key], {});\n",
              "        if (!dataTable) return;\n",
              "\n",
              "        const docLinkHtml = 'Like what you see? Visit the ' +\n",
              "          '<a target=\"_blank\" href=https://colab.research.google.com/notebooks/data_table.ipynb>data table notebook</a>'\n",
              "          + ' to learn more about interactive tables.';\n",
              "        element.innerHTML = '';\n",
              "        dataTable['output_type'] = 'display_data';\n",
              "        await google.colab.output.renderOutput(dataTable, element);\n",
              "        const docLink = document.createElement('div');\n",
              "        docLink.innerHTML = docLinkHtml;\n",
              "        element.appendChild(docLink);\n",
              "      }\n",
              "    </script>\n",
              "  </div>\n",
              "\n",
              "\n",
              "<div id=\"df-68ad3a37-7190-452b-996c-8da96ba84365\">\n",
              "  <button class=\"colab-df-quickchart\" onclick=\"quickchart('df-68ad3a37-7190-452b-996c-8da96ba84365')\"\n",
              "            title=\"Suggest charts\"\n",
              "            style=\"display:none;\">\n",
              "\n",
              "<svg xmlns=\"http://www.w3.org/2000/svg\" height=\"24px\"viewBox=\"0 0 24 24\"\n",
              "     width=\"24px\">\n",
              "    <g>\n",
              "        <path d=\"M19 3H5c-1.1 0-2 .9-2 2v14c0 1.1.9 2 2 2h14c1.1 0 2-.9 2-2V5c0-1.1-.9-2-2-2zM9 17H7v-7h2v7zm4 0h-2V7h2v10zm4 0h-2v-4h2v4z\"/>\n",
              "    </g>\n",
              "</svg>\n",
              "  </button>\n",
              "\n",
              "<style>\n",
              "  .colab-df-quickchart {\n",
              "      --bg-color: #E8F0FE;\n",
              "      --fill-color: #1967D2;\n",
              "      --hover-bg-color: #E2EBFA;\n",
              "      --hover-fill-color: #174EA6;\n",
              "      --disabled-fill-color: #AAA;\n",
              "      --disabled-bg-color: #DDD;\n",
              "  }\n",
              "\n",
              "  [theme=dark] .colab-df-quickchart {\n",
              "      --bg-color: #3B4455;\n",
              "      --fill-color: #D2E3FC;\n",
              "      --hover-bg-color: #434B5C;\n",
              "      --hover-fill-color: #FFFFFF;\n",
              "      --disabled-bg-color: #3B4455;\n",
              "      --disabled-fill-color: #666;\n",
              "  }\n",
              "\n",
              "  .colab-df-quickchart {\n",
              "    background-color: var(--bg-color);\n",
              "    border: none;\n",
              "    border-radius: 50%;\n",
              "    cursor: pointer;\n",
              "    display: none;\n",
              "    fill: var(--fill-color);\n",
              "    height: 32px;\n",
              "    padding: 0;\n",
              "    width: 32px;\n",
              "  }\n",
              "\n",
              "  .colab-df-quickchart:hover {\n",
              "    background-color: var(--hover-bg-color);\n",
              "    box-shadow: 0 1px 2px rgba(60, 64, 67, 0.3), 0 1px 3px 1px rgba(60, 64, 67, 0.15);\n",
              "    fill: var(--button-hover-fill-color);\n",
              "  }\n",
              "\n",
              "  .colab-df-quickchart-complete:disabled,\n",
              "  .colab-df-quickchart-complete:disabled:hover {\n",
              "    background-color: var(--disabled-bg-color);\n",
              "    fill: var(--disabled-fill-color);\n",
              "    box-shadow: none;\n",
              "  }\n",
              "\n",
              "  .colab-df-spinner {\n",
              "    border: 2px solid var(--fill-color);\n",
              "    border-color: transparent;\n",
              "    border-bottom-color: var(--fill-color);\n",
              "    animation:\n",
              "      spin 1s steps(1) infinite;\n",
              "  }\n",
              "\n",
              "  @keyframes spin {\n",
              "    0% {\n",
              "      border-color: transparent;\n",
              "      border-bottom-color: var(--fill-color);\n",
              "      border-left-color: var(--fill-color);\n",
              "    }\n",
              "    20% {\n",
              "      border-color: transparent;\n",
              "      border-left-color: var(--fill-color);\n",
              "      border-top-color: var(--fill-color);\n",
              "    }\n",
              "    30% {\n",
              "      border-color: transparent;\n",
              "      border-left-color: var(--fill-color);\n",
              "      border-top-color: var(--fill-color);\n",
              "      border-right-color: var(--fill-color);\n",
              "    }\n",
              "    40% {\n",
              "      border-color: transparent;\n",
              "      border-right-color: var(--fill-color);\n",
              "      border-top-color: var(--fill-color);\n",
              "    }\n",
              "    60% {\n",
              "      border-color: transparent;\n",
              "      border-right-color: var(--fill-color);\n",
              "    }\n",
              "    80% {\n",
              "      border-color: transparent;\n",
              "      border-right-color: var(--fill-color);\n",
              "      border-bottom-color: var(--fill-color);\n",
              "    }\n",
              "    90% {\n",
              "      border-color: transparent;\n",
              "      border-bottom-color: var(--fill-color);\n",
              "    }\n",
              "  }\n",
              "</style>\n",
              "\n",
              "  <script>\n",
              "    async function quickchart(key) {\n",
              "      const quickchartButtonEl =\n",
              "        document.querySelector('#' + key + ' button');\n",
              "      quickchartButtonEl.disabled = true;  // To prevent multiple clicks.\n",
              "      quickchartButtonEl.classList.add('colab-df-spinner');\n",
              "      try {\n",
              "        const charts = await google.colab.kernel.invokeFunction(\n",
              "            'suggestCharts', [key], {});\n",
              "      } catch (error) {\n",
              "        console.error('Error during call to suggestCharts:', error);\n",
              "      }\n",
              "      quickchartButtonEl.classList.remove('colab-df-spinner');\n",
              "      quickchartButtonEl.classList.add('colab-df-quickchart-complete');\n",
              "    }\n",
              "    (() => {\n",
              "      let quickchartButtonEl =\n",
              "        document.querySelector('#df-68ad3a37-7190-452b-996c-8da96ba84365 button');\n",
              "      quickchartButtonEl.style.display =\n",
              "        google.colab.kernel.accessAllowed ? 'block' : 'none';\n",
              "    })();\n",
              "  </script>\n",
              "</div>\n",
              "\n",
              "    </div>\n",
              "  </div>\n"
            ],
            "application/vnd.google.colaboratory.intrinsic+json": {
              "type": "dataframe",
              "variable_name": "avir_df",
              "summary": "{\n  \"name\": \"avir_df\",\n  \"rows\": 199,\n  \"fields\": [\n    {\n      \"column\": \"Date\",\n      \"properties\": {\n        \"dtype\": \"date\",\n        \"min\": \"2024-01-02 00:00:00\",\n        \"max\": \"2024-10-15 00:00:00\",\n        \"num_unique_values\": 199,\n        \"samples\": [\n          \"2024-04-30 00:00:00\",\n          \"2024-01-24 00:00:00\",\n          \"2024-06-11 00:00:00\"\n        ],\n        \"semantic_type\": \"\",\n        \"description\": \"\"\n      }\n    },\n    {\n      \"column\": \"AVIR\",\n      \"properties\": {\n        \"dtype\": \"number\",\n        \"std\": 1.6618847009019,\n        \"min\": 14.380000114440918,\n        \"max\": 23.420000076293945,\n        \"num_unique_values\": 155,\n        \"samples\": [\n          18.920000076293945,\n          18.18000030517578,\n          17.899999618530273\n        ],\n        \"semantic_type\": \"\",\n        \"description\": \"\"\n      }\n    }\n  ]\n}"
            }
          },
          "metadata": {},
          "execution_count": 53
        }
      ]
    },
    {
      "cell_type": "markdown",
      "source": [
        "A série de dados que temos interesse é agora a dos valores `cnt`, valores máximos de demanda de bicicletas por dia e representada pela linha amarela no gráfico abaixo."
      ],
      "metadata": {
        "id": "LrRbT34W2SUs"
      }
    },
    {
      "cell_type": "code",
      "source": [
        "bikes = avir_df[['AVIR']].rename(columns = {'AVIR':'cnt'})\n"
      ],
      "metadata": {
        "id": "U93qGT8vo5DP"
      },
      "execution_count": null,
      "outputs": []
    },
    {
      "cell_type": "code",
      "source": [
        "bikes.head()"
      ],
      "metadata": {
        "colab": {
          "base_uri": "https://localhost:8080/",
          "height": 237
        },
        "id": "eneEthxspEY_",
        "outputId": "5ef5e104-cb77-4c06-9137-50f2bdea3133"
      },
      "execution_count": null,
      "outputs": [
        {
          "output_type": "execute_result",
          "data": {
            "text/plain": [
              "                  cnt\n",
              "Date                 \n",
              "2024-01-02  17.040001\n",
              "2024-01-03  16.219999\n",
              "2024-01-04  16.610001\n",
              "2024-01-05  16.549999\n",
              "2024-01-08  18.250000"
            ],
            "text/html": [
              "\n",
              "  <div id=\"df-ffadf899-6975-4d0b-97b8-a227d8890646\" class=\"colab-df-container\">\n",
              "    <div>\n",
              "<style scoped>\n",
              "    .dataframe tbody tr th:only-of-type {\n",
              "        vertical-align: middle;\n",
              "    }\n",
              "\n",
              "    .dataframe tbody tr th {\n",
              "        vertical-align: top;\n",
              "    }\n",
              "\n",
              "    .dataframe thead th {\n",
              "        text-align: right;\n",
              "    }\n",
              "</style>\n",
              "<table border=\"1\" class=\"dataframe\">\n",
              "  <thead>\n",
              "    <tr style=\"text-align: right;\">\n",
              "      <th></th>\n",
              "      <th>cnt</th>\n",
              "    </tr>\n",
              "    <tr>\n",
              "      <th>Date</th>\n",
              "      <th></th>\n",
              "    </tr>\n",
              "  </thead>\n",
              "  <tbody>\n",
              "    <tr>\n",
              "      <th>2024-01-02</th>\n",
              "      <td>17.040001</td>\n",
              "    </tr>\n",
              "    <tr>\n",
              "      <th>2024-01-03</th>\n",
              "      <td>16.219999</td>\n",
              "    </tr>\n",
              "    <tr>\n",
              "      <th>2024-01-04</th>\n",
              "      <td>16.610001</td>\n",
              "    </tr>\n",
              "    <tr>\n",
              "      <th>2024-01-05</th>\n",
              "      <td>16.549999</td>\n",
              "    </tr>\n",
              "    <tr>\n",
              "      <th>2024-01-08</th>\n",
              "      <td>18.250000</td>\n",
              "    </tr>\n",
              "  </tbody>\n",
              "</table>\n",
              "</div>\n",
              "    <div class=\"colab-df-buttons\">\n",
              "\n",
              "  <div class=\"colab-df-container\">\n",
              "    <button class=\"colab-df-convert\" onclick=\"convertToInteractive('df-ffadf899-6975-4d0b-97b8-a227d8890646')\"\n",
              "            title=\"Convert this dataframe to an interactive table.\"\n",
              "            style=\"display:none;\">\n",
              "\n",
              "  <svg xmlns=\"http://www.w3.org/2000/svg\" height=\"24px\" viewBox=\"0 -960 960 960\">\n",
              "    <path d=\"M120-120v-720h720v720H120Zm60-500h600v-160H180v160Zm220 220h160v-160H400v160Zm0 220h160v-160H400v160ZM180-400h160v-160H180v160Zm440 0h160v-160H620v160ZM180-180h160v-160H180v160Zm440 0h160v-160H620v160Z\"/>\n",
              "  </svg>\n",
              "    </button>\n",
              "\n",
              "  <style>\n",
              "    .colab-df-container {\n",
              "      display:flex;\n",
              "      gap: 12px;\n",
              "    }\n",
              "\n",
              "    .colab-df-convert {\n",
              "      background-color: #E8F0FE;\n",
              "      border: none;\n",
              "      border-radius: 50%;\n",
              "      cursor: pointer;\n",
              "      display: none;\n",
              "      fill: #1967D2;\n",
              "      height: 32px;\n",
              "      padding: 0 0 0 0;\n",
              "      width: 32px;\n",
              "    }\n",
              "\n",
              "    .colab-df-convert:hover {\n",
              "      background-color: #E2EBFA;\n",
              "      box-shadow: 0px 1px 2px rgba(60, 64, 67, 0.3), 0px 1px 3px 1px rgba(60, 64, 67, 0.15);\n",
              "      fill: #174EA6;\n",
              "    }\n",
              "\n",
              "    .colab-df-buttons div {\n",
              "      margin-bottom: 4px;\n",
              "    }\n",
              "\n",
              "    [theme=dark] .colab-df-convert {\n",
              "      background-color: #3B4455;\n",
              "      fill: #D2E3FC;\n",
              "    }\n",
              "\n",
              "    [theme=dark] .colab-df-convert:hover {\n",
              "      background-color: #434B5C;\n",
              "      box-shadow: 0px 1px 3px 1px rgba(0, 0, 0, 0.15);\n",
              "      filter: drop-shadow(0px 1px 2px rgba(0, 0, 0, 0.3));\n",
              "      fill: #FFFFFF;\n",
              "    }\n",
              "  </style>\n",
              "\n",
              "    <script>\n",
              "      const buttonEl =\n",
              "        document.querySelector('#df-ffadf899-6975-4d0b-97b8-a227d8890646 button.colab-df-convert');\n",
              "      buttonEl.style.display =\n",
              "        google.colab.kernel.accessAllowed ? 'block' : 'none';\n",
              "\n",
              "      async function convertToInteractive(key) {\n",
              "        const element = document.querySelector('#df-ffadf899-6975-4d0b-97b8-a227d8890646');\n",
              "        const dataTable =\n",
              "          await google.colab.kernel.invokeFunction('convertToInteractive',\n",
              "                                                    [key], {});\n",
              "        if (!dataTable) return;\n",
              "\n",
              "        const docLinkHtml = 'Like what you see? Visit the ' +\n",
              "          '<a target=\"_blank\" href=https://colab.research.google.com/notebooks/data_table.ipynb>data table notebook</a>'\n",
              "          + ' to learn more about interactive tables.';\n",
              "        element.innerHTML = '';\n",
              "        dataTable['output_type'] = 'display_data';\n",
              "        await google.colab.output.renderOutput(dataTable, element);\n",
              "        const docLink = document.createElement('div');\n",
              "        docLink.innerHTML = docLinkHtml;\n",
              "        element.appendChild(docLink);\n",
              "      }\n",
              "    </script>\n",
              "  </div>\n",
              "\n",
              "\n",
              "<div id=\"df-34f71b0b-e2de-4b8a-9598-02dbd23c0f21\">\n",
              "  <button class=\"colab-df-quickchart\" onclick=\"quickchart('df-34f71b0b-e2de-4b8a-9598-02dbd23c0f21')\"\n",
              "            title=\"Suggest charts\"\n",
              "            style=\"display:none;\">\n",
              "\n",
              "<svg xmlns=\"http://www.w3.org/2000/svg\" height=\"24px\"viewBox=\"0 0 24 24\"\n",
              "     width=\"24px\">\n",
              "    <g>\n",
              "        <path d=\"M19 3H5c-1.1 0-2 .9-2 2v14c0 1.1.9 2 2 2h14c1.1 0 2-.9 2-2V5c0-1.1-.9-2-2-2zM9 17H7v-7h2v7zm4 0h-2V7h2v10zm4 0h-2v-4h2v4z\"/>\n",
              "    </g>\n",
              "</svg>\n",
              "  </button>\n",
              "\n",
              "<style>\n",
              "  .colab-df-quickchart {\n",
              "      --bg-color: #E8F0FE;\n",
              "      --fill-color: #1967D2;\n",
              "      --hover-bg-color: #E2EBFA;\n",
              "      --hover-fill-color: #174EA6;\n",
              "      --disabled-fill-color: #AAA;\n",
              "      --disabled-bg-color: #DDD;\n",
              "  }\n",
              "\n",
              "  [theme=dark] .colab-df-quickchart {\n",
              "      --bg-color: #3B4455;\n",
              "      --fill-color: #D2E3FC;\n",
              "      --hover-bg-color: #434B5C;\n",
              "      --hover-fill-color: #FFFFFF;\n",
              "      --disabled-bg-color: #3B4455;\n",
              "      --disabled-fill-color: #666;\n",
              "  }\n",
              "\n",
              "  .colab-df-quickchart {\n",
              "    background-color: var(--bg-color);\n",
              "    border: none;\n",
              "    border-radius: 50%;\n",
              "    cursor: pointer;\n",
              "    display: none;\n",
              "    fill: var(--fill-color);\n",
              "    height: 32px;\n",
              "    padding: 0;\n",
              "    width: 32px;\n",
              "  }\n",
              "\n",
              "  .colab-df-quickchart:hover {\n",
              "    background-color: var(--hover-bg-color);\n",
              "    box-shadow: 0 1px 2px rgba(60, 64, 67, 0.3), 0 1px 3px 1px rgba(60, 64, 67, 0.15);\n",
              "    fill: var(--button-hover-fill-color);\n",
              "  }\n",
              "\n",
              "  .colab-df-quickchart-complete:disabled,\n",
              "  .colab-df-quickchart-complete:disabled:hover {\n",
              "    background-color: var(--disabled-bg-color);\n",
              "    fill: var(--disabled-fill-color);\n",
              "    box-shadow: none;\n",
              "  }\n",
              "\n",
              "  .colab-df-spinner {\n",
              "    border: 2px solid var(--fill-color);\n",
              "    border-color: transparent;\n",
              "    border-bottom-color: var(--fill-color);\n",
              "    animation:\n",
              "      spin 1s steps(1) infinite;\n",
              "  }\n",
              "\n",
              "  @keyframes spin {\n",
              "    0% {\n",
              "      border-color: transparent;\n",
              "      border-bottom-color: var(--fill-color);\n",
              "      border-left-color: var(--fill-color);\n",
              "    }\n",
              "    20% {\n",
              "      border-color: transparent;\n",
              "      border-left-color: var(--fill-color);\n",
              "      border-top-color: var(--fill-color);\n",
              "    }\n",
              "    30% {\n",
              "      border-color: transparent;\n",
              "      border-left-color: var(--fill-color);\n",
              "      border-top-color: var(--fill-color);\n",
              "      border-right-color: var(--fill-color);\n",
              "    }\n",
              "    40% {\n",
              "      border-color: transparent;\n",
              "      border-right-color: var(--fill-color);\n",
              "      border-top-color: var(--fill-color);\n",
              "    }\n",
              "    60% {\n",
              "      border-color: transparent;\n",
              "      border-right-color: var(--fill-color);\n",
              "    }\n",
              "    80% {\n",
              "      border-color: transparent;\n",
              "      border-right-color: var(--fill-color);\n",
              "      border-bottom-color: var(--fill-color);\n",
              "    }\n",
              "    90% {\n",
              "      border-color: transparent;\n",
              "      border-bottom-color: var(--fill-color);\n",
              "    }\n",
              "  }\n",
              "</style>\n",
              "\n",
              "  <script>\n",
              "    async function quickchart(key) {\n",
              "      const quickchartButtonEl =\n",
              "        document.querySelector('#' + key + ' button');\n",
              "      quickchartButtonEl.disabled = true;  // To prevent multiple clicks.\n",
              "      quickchartButtonEl.classList.add('colab-df-spinner');\n",
              "      try {\n",
              "        const charts = await google.colab.kernel.invokeFunction(\n",
              "            'suggestCharts', [key], {});\n",
              "      } catch (error) {\n",
              "        console.error('Error during call to suggestCharts:', error);\n",
              "      }\n",
              "      quickchartButtonEl.classList.remove('colab-df-spinner');\n",
              "      quickchartButtonEl.classList.add('colab-df-quickchart-complete');\n",
              "    }\n",
              "    (() => {\n",
              "      let quickchartButtonEl =\n",
              "        document.querySelector('#df-34f71b0b-e2de-4b8a-9598-02dbd23c0f21 button');\n",
              "      quickchartButtonEl.style.display =\n",
              "        google.colab.kernel.accessAllowed ? 'block' : 'none';\n",
              "    })();\n",
              "  </script>\n",
              "</div>\n",
              "\n",
              "    </div>\n",
              "  </div>\n"
            ],
            "application/vnd.google.colaboratory.intrinsic+json": {
              "type": "dataframe",
              "variable_name": "bikes",
              "summary": "{\n  \"name\": \"bikes\",\n  \"rows\": 199,\n  \"fields\": [\n    {\n      \"column\": \"Date\",\n      \"properties\": {\n        \"dtype\": \"date\",\n        \"min\": \"2024-01-02 00:00:00\",\n        \"max\": \"2024-10-15 00:00:00\",\n        \"num_unique_values\": 199,\n        \"samples\": [\n          \"2024-04-30 00:00:00\",\n          \"2024-01-24 00:00:00\",\n          \"2024-06-11 00:00:00\"\n        ],\n        \"semantic_type\": \"\",\n        \"description\": \"\"\n      }\n    },\n    {\n      \"column\": \"cnt\",\n      \"properties\": {\n        \"dtype\": \"number\",\n        \"std\": 1.6618847009019,\n        \"min\": 14.380000114440918,\n        \"max\": 23.420000076293945,\n        \"num_unique_values\": 155,\n        \"samples\": [\n          18.920000076293945,\n          18.18000030517578,\n          17.899999618530273\n        ],\n        \"semantic_type\": \"\",\n        \"description\": \"\"\n      }\n    }\n  ]\n}"
            }
          },
          "metadata": {},
          "execution_count": 55
        }
      ]
    },
    {
      "cell_type": "code",
      "source": [
        "##Backup\n",
        "\n",
        "\n",
        "##sns.lineplot(x = df.cnt.index, y = df.cnt)\n",
        "\n",
        "##plt.title('AVIRSharing Demanding', fontsize=14, weight='bold')\n",
        "##plt.xlabel('Days')\n",
        "##plt.ylabel('Bike Demands')\n",
        "##plt.show()"
      ],
      "metadata": {
        "id": "uoSrPqRTExK5"
      },
      "execution_count": null,
      "outputs": []
    },
    {
      "cell_type": "markdown",
      "source": [
        "###### Modelo ARIMA\n",
        "\n",
        "Vamos recordar que chegamos ao seguinte modelo ARIMA e forecasting para os 20% dados finais da Série (Conjunto de Teste) nos capítulos anteriores:"
      ],
      "metadata": {
        "id": "QF-jab6g20WE"
      }
    },
    {
      "cell_type": "code",
      "source": [
        "from statsmodels.tsa.arima.model import ARIMA\n",
        "from statsmodels.graphics.tsaplots import plot_acf\n",
        "from statsmodels.tsa.arima_process import ArmaProcess\n",
        "from statsmodels.tsa.stattools import acf, pacf"
      ],
      "metadata": {
        "id": "Lmi9RKmnSDpa"
      },
      "execution_count": null,
      "outputs": []
    },
    {
      "cell_type": "code",
      "source": [
        "df = bikes.copy()"
      ],
      "metadata": {
        "id": "RCiOMyOM5E9v"
      },
      "execution_count": null,
      "outputs": []
    },
    {
      "cell_type": "code",
      "source": [
        "df = df[['cnt']]\n",
        "df.columns = ['value']\n",
        "df = df.reset_index(drop=True)\n"
      ],
      "metadata": {
        "id": "2xhPmTEH91KM"
      },
      "execution_count": null,
      "outputs": []
    },
    {
      "cell_type": "code",
      "source": [
        "test_size = int(0.2*len(df))\n",
        "train_size = len(df) - test_size\n",
        "\n",
        "## Create Training and Test\n",
        "train = df.value[:train_size]\n",
        "test = df.value[train_size:]"
      ],
      "metadata": {
        "id": "6onHk2x2EJYs"
      },
      "execution_count": null,
      "outputs": []
    },
    {
      "cell_type": "code",
      "source": [
        "p = 7\n",
        "d = 2\n",
        "q = 1\n",
        "\n",
        "model = ARIMA(train, order=(p,d,q))\n",
        "model_fit = model.fit()\n"
      ],
      "metadata": {
        "id": "mMA5KpBjcPmr",
        "colab": {
          "base_uri": "https://localhost:8080/"
        },
        "outputId": "c7b7cf1a-deda-455b-82fa-248541417032"
      },
      "execution_count": null,
      "outputs": [
        {
          "output_type": "stream",
          "name": "stderr",
          "text": [
            "/usr/local/lib/python3.10/dist-packages/statsmodels/base/model.py:607: ConvergenceWarning: Maximum Likelihood optimization failed to converge. Check mle_retvals\n",
            "  warnings.warn(\"Maximum Likelihood optimization failed to \"\n"
          ]
        }
      ]
    },
    {
      "cell_type": "code",
      "source": [
        "print(model_fit.summary())"
      ],
      "metadata": {
        "id": "_5XzwKnom36v",
        "colab": {
          "base_uri": "https://localhost:8080/"
        },
        "outputId": "ebce71fb-672c-4575-8c93-b28dc2cd0190"
      },
      "execution_count": null,
      "outputs": [
        {
          "output_type": "stream",
          "name": "stdout",
          "text": [
            "                               SARIMAX Results                                \n",
            "==============================================================================\n",
            "Dep. Variable:                  value   No. Observations:                  160\n",
            "Model:                 ARIMA(7, 2, 1)   Log Likelihood                -202.169\n",
            "Date:                Tue, 15 Oct 2024   AIC                            422.339\n",
            "Time:                        20:48:52   BIC                            449.902\n",
            "Sample:                             0   HQIC                           433.532\n",
            "                                - 160                                         \n",
            "Covariance Type:                  opg                                         \n",
            "==============================================================================\n",
            "                 coef    std err          z      P>|z|      [0.025      0.975]\n",
            "------------------------------------------------------------------------------\n",
            "ar.L1         -0.0324      0.088     -0.370      0.712      -0.204       0.139\n",
            "ar.L2         -0.0793      0.082     -0.963      0.336      -0.241       0.082\n",
            "ar.L3         -0.0238      0.157     -0.151      0.880      -0.332       0.285\n",
            "ar.L4          0.0373      0.110      0.340      0.734      -0.178       0.253\n",
            "ar.L5          0.0976      0.141      0.692      0.489      -0.179       0.374\n",
            "ar.L6         -0.0325      0.150     -0.216      0.829      -0.327       0.262\n",
            "ar.L7         -0.0314      0.121     -0.258      0.796      -0.269       0.206\n",
            "ma.L1         -0.9999      7.524     -0.133      0.894     -15.747      13.747\n",
            "sigma2         0.7319      5.522      0.133      0.895     -10.091      11.555\n",
            "===================================================================================\n",
            "Ljung-Box (L1) (Q):                   0.00   Jarque-Bera (JB):              2034.04\n",
            "Prob(Q):                              0.99   Prob(JB):                         0.00\n",
            "Heteroskedasticity (H):               0.69   Skew:                            -2.57\n",
            "Prob(H) (two-sided):                  0.17   Kurtosis:                        19.81\n",
            "===================================================================================\n",
            "\n",
            "Warnings:\n",
            "[1] Covariance matrix calculated using the outer product of gradients (complex-step).\n"
          ]
        }
      ]
    },
    {
      "cell_type": "code",
      "source": [
        "history = [x for x in train]\n",
        "predictions = list()\n",
        "\n",
        "## forward validation\n",
        "for t in test.index:\n",
        "  ## print(t)\n",
        "\tmodel = ARIMA(history, order=(7,2,1))\n",
        "\tmodel_fit = model.fit( )\n",
        "\toutput = model_fit.forecast()\n",
        "\tyhat = output[0]\n",
        "\tpredictions.append(yhat)\n",
        "\tobs = test[t]\n",
        "\thistory.append(obs)\n",
        "\n"
      ],
      "metadata": {
        "id": "72_sLGATpch_",
        "colab": {
          "base_uri": "https://localhost:8080/"
        },
        "outputId": "1a446bc0-f309-46e5-9c71-c37a57468e87"
      },
      "execution_count": null,
      "outputs": [
        {
          "output_type": "stream",
          "name": "stderr",
          "text": [
            "/usr/local/lib/python3.10/dist-packages/statsmodels/base/model.py:607: ConvergenceWarning: Maximum Likelihood optimization failed to converge. Check mle_retvals\n",
            "  warnings.warn(\"Maximum Likelihood optimization failed to \"\n",
            "/usr/local/lib/python3.10/dist-packages/statsmodels/base/model.py:607: ConvergenceWarning: Maximum Likelihood optimization failed to converge. Check mle_retvals\n",
            "  warnings.warn(\"Maximum Likelihood optimization failed to \"\n",
            "/usr/local/lib/python3.10/dist-packages/statsmodels/base/model.py:607: ConvergenceWarning: Maximum Likelihood optimization failed to converge. Check mle_retvals\n",
            "  warnings.warn(\"Maximum Likelihood optimization failed to \"\n",
            "/usr/local/lib/python3.10/dist-packages/statsmodels/base/model.py:607: ConvergenceWarning: Maximum Likelihood optimization failed to converge. Check mle_retvals\n",
            "  warnings.warn(\"Maximum Likelihood optimization failed to \"\n",
            "/usr/local/lib/python3.10/dist-packages/statsmodels/base/model.py:607: ConvergenceWarning: Maximum Likelihood optimization failed to converge. Check mle_retvals\n",
            "  warnings.warn(\"Maximum Likelihood optimization failed to \"\n",
            "/usr/local/lib/python3.10/dist-packages/statsmodels/base/model.py:607: ConvergenceWarning: Maximum Likelihood optimization failed to converge. Check mle_retvals\n",
            "  warnings.warn(\"Maximum Likelihood optimization failed to \"\n",
            "/usr/local/lib/python3.10/dist-packages/statsmodels/base/model.py:607: ConvergenceWarning: Maximum Likelihood optimization failed to converge. Check mle_retvals\n",
            "  warnings.warn(\"Maximum Likelihood optimization failed to \"\n",
            "/usr/local/lib/python3.10/dist-packages/statsmodels/base/model.py:607: ConvergenceWarning: Maximum Likelihood optimization failed to converge. Check mle_retvals\n",
            "  warnings.warn(\"Maximum Likelihood optimization failed to \"\n",
            "/usr/local/lib/python3.10/dist-packages/statsmodels/base/model.py:607: ConvergenceWarning: Maximum Likelihood optimization failed to converge. Check mle_retvals\n",
            "  warnings.warn(\"Maximum Likelihood optimization failed to \"\n"
          ]
        }
      ]
    },
    {
      "cell_type": "code",
      "source": [
        "##@markdown\n",
        "def plot_forecast(y, y_pred, X_train, title='Forecasting'):\n",
        "\n",
        "  plt.plot(y, alpha=0.3, label='Real', color='k')\n",
        "  plt.plot(y_pred, alpha=0.7, label='Forecast', color='k', linestyle='--')\n",
        "\n",
        "  plt.plot(y_pred[0:X_train.shape[0]], alpha=0.9, label='Predicted', color='k', linestyle=':')\n",
        "\n",
        "  plt.vlines(x=y.index[X_train.shape[0]] , ymin=0, ymax=y.max(), linestyle='--')\n",
        "\n",
        "  plt.title(title)\n",
        "  plt.xlabel('Days')\n",
        "  plt.ylabel('Bike Demands')\n",
        "\n",
        "  plt.text(100, 0 , '0.8, conjunto de treinamento')\n",
        "  plt.text(300 , 0 , '0.2, de teste')\n",
        "  plt.legend()\n",
        "  plt.show()\n",
        "\n",
        "  return"
      ],
      "metadata": {
        "id": "ltImBQ4-HsXn"
      },
      "execution_count": null,
      "outputs": []
    },
    {
      "cell_type": "code",
      "source": [
        "##@markdown\n",
        "## metrics\n",
        "from statsmodels.tsa.stattools import acf\n",
        "\n",
        "def forecast_accuracy(forecast, actual, print_flag=True):\n",
        "    mape = np.mean(np.abs(forecast - actual)/np.abs(actual))  ## MAPE\n",
        "    me = np.mean(forecast - actual)                           ## ME\n",
        "    mae = np.mean(np.abs(forecast - actual))                  ## MAE\n",
        "    mpe = np.mean((forecast - actual)/actual)                 ## MPE\n",
        "    mse = np.mean((forecast - actual)**2)                     ## MSE\n",
        "    rmse = np.mean((forecast - actual)**2)**.5                ## RMSE\n",
        "    corr = np.corrcoef(forecast, actual)[0,1]                 ## CORR\n",
        "    acf1 = acf(forecast - actual)[1]                          ## ACF1\n",
        "\n",
        "    metrics = {'MSE':mse, 'MAPE':mape, 'ME':me, 'MAE': mae, 'MPE': mpe, 'RMSE':rmse, 'ACF1':acf1, 'CORR':corr}\n",
        "\n",
        "    if print_flag:\n",
        "      for key, value in metrics.items():\n",
        "        print(f'{key}: \\t {value:.2f}')\n",
        "\n",
        "    return metrics\n",
        "\n"
      ],
      "metadata": {
        "id": "wpqFiKjFypJg"
      },
      "execution_count": null,
      "outputs": []
    },
    {
      "cell_type": "markdown",
      "source": [
        "# 1_"
      ],
      "metadata": {
        "id": "8t8ZjfRY-OGH"
      }
    },
    {
      "cell_type": "code",
      "source": [
        "y_pred = np.concatenate( (np.array( history[0:train_size] ).reshape(-1), np.array(predictions).reshape(-1)) )\n",
        "\n",
        "plot_forecast(pd.DataFrame( history ), y_pred, np.array( history[0:train_size] ), title='AVIR predict - ARIMA model')\n",
        "cur_metrics = forecast_accuracy(y_pred[train_size::], df[train_size::].values.reshape(-1))\n",
        "\n",
        "dict_metrics = {}\n",
        "dict_metrics['ARIMA Model'] = cur_metrics"
      ],
      "metadata": {
        "colab": {
          "base_uri": "https://localhost:8080/",
          "height": 560
        },
        "id": "rCgBSxzCJLvT",
        "outputId": "7e37e21d-930e-4fe6-e9c1-f8b4fed5e43c"
      },
      "execution_count": null,
      "outputs": [
        {
          "output_type": "display_data",
          "data": {
            "text/plain": [
              "<Figure size 700x400 with 1 Axes>"
            ],
            "image/png": "[encoded data removed]"
          },
          "metadata": {}
        },
        {
          "output_type": "stream",
          "name": "stdout",
          "text": [
            "MSE: \t 0.23\n",
            "MAPE: \t 0.02\n",
            "ME: \t -0.03\n",
            "MAE: \t 0.36\n",
            "MPE: \t -0.00\n",
            "RMSE: \t 0.48\n",
            "ACF1: \t 0.12\n",
            "CORR: \t 0.85\n"
          ]
        }
      ]
    },
    {
      "cell_type": "markdown",
      "source": [
        "#2"
      ],
      "metadata": {
        "id": "wpW2beiP-Tyu"
      }
    },
    {
      "cell_type": "markdown",
      "source": [
        "###### Modelo de Aprendizado de Máquina\n",
        "\n",
        "Para o Aprendizado de Máquina vamos empregar duas funções, uma para criar o conjunto de entradas com os termos regressores da Séries (empregaremos 7 termos, no valendo da análise do modelo ARIMA anterior) e outra para separar o conjunto de Treinamento e Teste da Série. Empregaremos 20% dos dados mais recentes para o Teste de Previsão dos valores."
      ],
      "metadata": {
        "id": "DRmINzziBXC7"
      }
    },
    {
      "cell_type": "code",
      "source": [
        "def ml_timeseries_df(df, n_lags, prefix=''):\n",
        "\n",
        "\tdf_ml = pd.DataFrame()\n",
        "\n",
        "\tfor i in range(n_lags,0,-1):\n",
        "\t\tdf_ml[prefix + 't-' + str(i)] = df.shift(i).values[:,0]\n",
        "\tdf_ml['t'] = df.values[:,0]\n",
        "\tdf_ml = df_ml[n_lags:]\n",
        "\tdf_ml = df_ml.reset_index(drop=True)\n",
        "\n",
        "\treturn df_ml\n",
        "\n",
        "df = ml_timeseries_df(bikes[['cnt']], n_lags=7)\n",
        "df.head()"
      ],
      "metadata": {
        "colab": {
          "base_uri": "https://localhost:8080/",
          "height": 206
        },
        "id": "946SA4R2LAvx",
        "outputId": "09c40a45-e397-4d41-a472-655cb65a9121"
      },
      "execution_count": null,
      "outputs": [
        {
          "output_type": "execute_result",
          "data": {
            "text/plain": [
              "         t-7        t-6        t-5        t-4        t-3        t-2  \\\n",
              "0  17.040001  16.219999  16.610001  16.549999  18.250000  17.309999   \n",
              "1  16.219999  16.610001  16.549999  18.250000  17.309999  17.480000   \n",
              "2  16.610001  16.549999  18.250000  17.309999  17.480000  16.889999   \n",
              "3  16.549999  18.250000  17.309999  17.480000  16.889999  16.620001   \n",
              "4  18.250000  17.309999  17.480000  16.889999  16.620001  15.850000   \n",
              "\n",
              "         t-1          t  \n",
              "0  17.480000  16.889999  \n",
              "1  16.889999  16.620001  \n",
              "2  16.620001  15.850000  \n",
              "3  15.850000  16.459999  \n",
              "4  16.459999  16.000000  "
            ],
            "text/html": [
              "\n",
              "  <div id=\"df-b66fdb88-ff18-41a9-aa7d-8840a2dbdc44\" class=\"colab-df-container\">\n",
              "    <div>\n",
              "<style scoped>\n",
              "    .dataframe tbody tr th:only-of-type {\n",
              "        vertical-align: middle;\n",
              "    }\n",
              "\n",
              "    .dataframe tbody tr th {\n",
              "        vertical-align: top;\n",
              "    }\n",
              "\n",
              "    .dataframe thead th {\n",
              "        text-align: right;\n",
              "    }\n",
              "</style>\n",
              "<table border=\"1\" class=\"dataframe\">\n",
              "  <thead>\n",
              "    <tr style=\"text-align: right;\">\n",
              "      <th></th>\n",
              "      <th>t-7</th>\n",
              "      <th>t-6</th>\n",
              "      <th>t-5</th>\n",
              "      <th>t-4</th>\n",
              "      <th>t-3</th>\n",
              "      <th>t-2</th>\n",
              "      <th>t-1</th>\n",
              "      <th>t</th>\n",
              "    </tr>\n",
              "  </thead>\n",
              "  <tbody>\n",
              "    <tr>\n",
              "      <th>0</th>\n",
              "      <td>17.040001</td>\n",
              "      <td>16.219999</td>\n",
              "      <td>16.610001</td>\n",
              "      <td>16.549999</td>\n",
              "      <td>18.250000</td>\n",
              "      <td>17.309999</td>\n",
              "      <td>17.480000</td>\n",
              "      <td>16.889999</td>\n",
              "    </tr>\n",
              "    <tr>\n",
              "      <th>1</th>\n",
              "      <td>16.219999</td>\n",
              "      <td>16.610001</td>\n",
              "      <td>16.549999</td>\n",
              "      <td>18.250000</td>\n",
              "      <td>17.309999</td>\n",
              "      <td>17.480000</td>\n",
              "      <td>16.889999</td>\n",
              "      <td>16.620001</td>\n",
              "    </tr>\n",
              "    <tr>\n",
              "      <th>2</th>\n",
              "      <td>16.610001</td>\n",
              "      <td>16.549999</td>\n",
              "      <td>18.250000</td>\n",
              "      <td>17.309999</td>\n",
              "      <td>17.480000</td>\n",
              "      <td>16.889999</td>\n",
              "      <td>16.620001</td>\n",
              "      <td>15.850000</td>\n",
              "    </tr>\n",
              "    <tr>\n",
              "      <th>3</th>\n",
              "      <td>16.549999</td>\n",
              "      <td>18.250000</td>\n",
              "      <td>17.309999</td>\n",
              "      <td>17.480000</td>\n",
              "      <td>16.889999</td>\n",
              "      <td>16.620001</td>\n",
              "      <td>15.850000</td>\n",
              "      <td>16.459999</td>\n",
              "    </tr>\n",
              "    <tr>\n",
              "      <th>4</th>\n",
              "      <td>18.250000</td>\n",
              "      <td>17.309999</td>\n",
              "      <td>17.480000</td>\n",
              "      <td>16.889999</td>\n",
              "      <td>16.620001</td>\n",
              "      <td>15.850000</td>\n",
              "      <td>16.459999</td>\n",
              "      <td>16.000000</td>\n",
              "    </tr>\n",
              "  </tbody>\n",
              "</table>\n",
              "</div>\n",
              "    <div class=\"colab-df-buttons\">\n",
              "\n",
              "  <div class=\"colab-df-container\">\n",
              "    <button class=\"colab-df-convert\" onclick=\"convertToInteractive('df-b66fdb88-ff18-41a9-aa7d-8840a2dbdc44')\"\n",
              "            title=\"Convert this dataframe to an interactive table.\"\n",
              "            style=\"display:none;\">\n",
              "\n",
              "  <svg xmlns=\"http://www.w3.org/2000/svg\" height=\"24px\" viewBox=\"0 -960 960 960\">\n",
              "    <path d=\"M120-120v-720h720v720H120Zm60-500h600v-160H180v160Zm220 220h160v-160H400v160Zm0 220h160v-160H400v160ZM180-400h160v-160H180v160Zm440 0h160v-160H620v160ZM180-180h160v-160H180v160Zm440 0h160v-160H620v160Z\"/>\n",
              "  </svg>\n",
              "    </button>\n",
              "\n",
              "  <style>\n",
              "    .colab-df-container {\n",
              "      display:flex;\n",
              "      gap: 12px;\n",
              "    }\n",
              "\n",
              "    .colab-df-convert {\n",
              "      background-color: #E8F0FE;\n",
              "      border: none;\n",
              "      border-radius: 50%;\n",
              "      cursor: pointer;\n",
              "      display: none;\n",
              "      fill: #1967D2;\n",
              "      height: 32px;\n",
              "      padding: 0 0 0 0;\n",
              "      width: 32px;\n",
              "    }\n",
              "\n",
              "    .colab-df-convert:hover {\n",
              "      background-color: #E2EBFA;\n",
              "      box-shadow: 0px 1px 2px rgba(60, 64, 67, 0.3), 0px 1px 3px 1px rgba(60, 64, 67, 0.15);\n",
              "      fill: #174EA6;\n",
              "    }\n",
              "\n",
              "    .colab-df-buttons div {\n",
              "      margin-bottom: 4px;\n",
              "    }\n",
              "\n",
              "    [theme=dark] .colab-df-convert {\n",
              "      background-color: #3B4455;\n",
              "      fill: #D2E3FC;\n",
              "    }\n",
              "\n",
              "    [theme=dark] .colab-df-convert:hover {\n",
              "      background-color: #434B5C;\n",
              "      box-shadow: 0px 1px 3px 1px rgba(0, 0, 0, 0.15);\n",
              "      filter: drop-shadow(0px 1px 2px rgba(0, 0, 0, 0.3));\n",
              "      fill: #FFFFFF;\n",
              "    }\n",
              "  </style>\n",
              "\n",
              "    <script>\n",
              "      const buttonEl =\n",
              "        document.querySelector('#df-b66fdb88-ff18-41a9-aa7d-8840a2dbdc44 button.colab-df-convert');\n",
              "      buttonEl.style.display =\n",
              "        google.colab.kernel.accessAllowed ? 'block' : 'none';\n",
              "\n",
              "      async function convertToInteractive(key) {\n",
              "        const element = document.querySelector('#df-b66fdb88-ff18-41a9-aa7d-8840a2dbdc44');\n",
              "        const dataTable =\n",
              "          await google.colab.kernel.invokeFunction('convertToInteractive',\n",
              "                                                    [key], {});\n",
              "        if (!dataTable) return;\n",
              "\n",
              "        const docLinkHtml = 'Like what you see? Visit the ' +\n",
              "          '<a target=\"_blank\" href=https://colab.research.google.com/notebooks/data_table.ipynb>data table notebook</a>'\n",
              "          + ' to learn more about interactive tables.';\n",
              "        element.innerHTML = '';\n",
              "        dataTable['output_type'] = 'display_data';\n",
              "        await google.colab.output.renderOutput(dataTable, element);\n",
              "        const docLink = document.createElement('div');\n",
              "        docLink.innerHTML = docLinkHtml;\n",
              "        element.appendChild(docLink);\n",
              "      }\n",
              "    </script>\n",
              "  </div>\n",
              "\n",
              "\n",
              "<div id=\"df-9307be48-8be0-4b7a-83a4-1e6c105a9999\">\n",
              "  <button class=\"colab-df-quickchart\" onclick=\"quickchart('df-9307be48-8be0-4b7a-83a4-1e6c105a9999')\"\n",
              "            title=\"Suggest charts\"\n",
              "            style=\"display:none;\">\n",
              "\n",
              "<svg xmlns=\"http://www.w3.org/2000/svg\" height=\"24px\"viewBox=\"0 0 24 24\"\n",
              "     width=\"24px\">\n",
              "    <g>\n",
              "        <path d=\"M19 3H5c-1.1 0-2 .9-2 2v14c0 1.1.9 2 2 2h14c1.1 0 2-.9 2-2V5c0-1.1-.9-2-2-2zM9 17H7v-7h2v7zm4 0h-2V7h2v10zm4 0h-2v-4h2v4z\"/>\n",
              "    </g>\n",
              "</svg>\n",
              "  </button>\n",
              "\n",
              "<style>\n",
              "  .colab-df-quickchart {\n",
              "      --bg-color: #E8F0FE;\n",
              "      --fill-color: #1967D2;\n",
              "      --hover-bg-color: #E2EBFA;\n",
              "      --hover-fill-color: #174EA6;\n",
              "      --disabled-fill-color: #AAA;\n",
              "      --disabled-bg-color: #DDD;\n",
              "  }\n",
              "\n",
              "  [theme=dark] .colab-df-quickchart {\n",
              "      --bg-color: #3B4455;\n",
              "      --fill-color: #D2E3FC;\n",
              "      --hover-bg-color: #434B5C;\n",
              "      --hover-fill-color: #FFFFFF;\n",
              "      --disabled-bg-color: #3B4455;\n",
              "      --disabled-fill-color: #666;\n",
              "  }\n",
              "\n",
              "  .colab-df-quickchart {\n",
              "    background-color: var(--bg-color);\n",
              "    border: none;\n",
              "    border-radius: 50%;\n",
              "    cursor: pointer;\n",
              "    display: none;\n",
              "    fill: var(--fill-color);\n",
              "    height: 32px;\n",
              "    padding: 0;\n",
              "    width: 32px;\n",
              "  }\n",
              "\n",
              "  .colab-df-quickchart:hover {\n",
              "    background-color: var(--hover-bg-color);\n",
              "    box-shadow: 0 1px 2px rgba(60, 64, 67, 0.3), 0 1px 3px 1px rgba(60, 64, 67, 0.15);\n",
              "    fill: var(--button-hover-fill-color);\n",
              "  }\n",
              "\n",
              "  .colab-df-quickchart-complete:disabled,\n",
              "  .colab-df-quickchart-complete:disabled:hover {\n",
              "    background-color: var(--disabled-bg-color);\n",
              "    fill: var(--disabled-fill-color);\n",
              "    box-shadow: none;\n",
              "  }\n",
              "\n",
              "  .colab-df-spinner {\n",
              "    border: 2px solid var(--fill-color);\n",
              "    border-color: transparent;\n",
              "    border-bottom-color: var(--fill-color);\n",
              "    animation:\n",
              "      spin 1s steps(1) infinite;\n",
              "  }\n",
              "\n",
              "  @keyframes spin {\n",
              "    0% {\n",
              "      border-color: transparent;\n",
              "      border-bottom-color: var(--fill-color);\n",
              "      border-left-color: var(--fill-color);\n",
              "    }\n",
              "    20% {\n",
              "      border-color: transparent;\n",
              "      border-left-color: var(--fill-color);\n",
              "      border-top-color: var(--fill-color);\n",
              "    }\n",
              "    30% {\n",
              "      border-color: transparent;\n",
              "      border-left-color: var(--fill-color);\n",
              "      border-top-color: var(--fill-color);\n",
              "      border-right-color: var(--fill-color);\n",
              "    }\n",
              "    40% {\n",
              "      border-color: transparent;\n",
              "      border-right-color: var(--fill-color);\n",
              "      border-top-color: var(--fill-color);\n",
              "    }\n",
              "    60% {\n",
              "      border-color: transparent;\n",
              "      border-right-color: var(--fill-color);\n",
              "    }\n",
              "    80% {\n",
              "      border-color: transparent;\n",
              "      border-right-color: var(--fill-color);\n",
              "      border-bottom-color: var(--fill-color);\n",
              "    }\n",
              "    90% {\n",
              "      border-color: transparent;\n",
              "      border-bottom-color: var(--fill-color);\n",
              "    }\n",
              "  }\n",
              "</style>\n",
              "\n",
              "  <script>\n",
              "    async function quickchart(key) {\n",
              "      const quickchartButtonEl =\n",
              "        document.querySelector('#' + key + ' button');\n",
              "      quickchartButtonEl.disabled = true;  // To prevent multiple clicks.\n",
              "      quickchartButtonEl.classList.add('colab-df-spinner');\n",
              "      try {\n",
              "        const charts = await google.colab.kernel.invokeFunction(\n",
              "            'suggestCharts', [key], {});\n",
              "      } catch (error) {\n",
              "        console.error('Error during call to suggestCharts:', error);\n",
              "      }\n",
              "      quickchartButtonEl.classList.remove('colab-df-spinner');\n",
              "      quickchartButtonEl.classList.add('colab-df-quickchart-complete');\n",
              "    }\n",
              "    (() => {\n",
              "      let quickchartButtonEl =\n",
              "        document.querySelector('#df-9307be48-8be0-4b7a-83a4-1e6c105a9999 button');\n",
              "      quickchartButtonEl.style.display =\n",
              "        google.colab.kernel.accessAllowed ? 'block' : 'none';\n",
              "    })();\n",
              "  </script>\n",
              "</div>\n",
              "\n",
              "    </div>\n",
              "  </div>\n"
            ],
            "application/vnd.google.colaboratory.intrinsic+json": {
              "type": "dataframe",
              "variable_name": "df",
              "summary": "{\n  \"name\": \"df\",\n  \"rows\": 192,\n  \"fields\": [\n    {\n      \"column\": \"t-7\",\n      \"properties\": {\n        \"dtype\": \"number\",\n        \"std\": 1.6794780563653338,\n        \"min\": 14.380000114440918,\n        \"max\": 23.420000076293945,\n        \"num_unique_values\": 152,\n        \"samples\": [\n          17.489999771118164,\n          17.170000076293945,\n          14.380000114440918\n        ],\n        \"semantic_type\": \"\",\n        \"description\": \"\"\n      }\n    },\n    {\n      \"column\": \"t-6\",\n      \"properties\": {\n        \"dtype\": \"number\",\n        \"std\": 1.6834770918199895,\n        \"min\": 14.380000114440918,\n        \"max\": 23.420000076293945,\n        \"num_unique_values\": 153,\n        \"samples\": [\n          17.969999313354492,\n          17.030000686645508,\n          14.890000343322754\n        ],\n        \"semantic_type\": \"\",\n        \"description\": \"\"\n      }\n    },\n    {\n      \"column\": \"t-5\",\n      \"properties\": {\n        \"dtype\": \"number\",\n        \"std\": 1.6854403845955626,\n        \"min\": 14.380000114440918,\n        \"max\": 23.420000076293945,\n        \"num_unique_values\": 152,\n        \"samples\": [\n          17.40999984741211,\n          17.049999237060547,\n          14.890000343322754\n        ],\n        \"semantic_type\": \"\",\n        \"description\": \"\"\n      }\n    },\n    {\n      \"column\": \"t-4\",\n      \"properties\": {\n        \"dtype\": \"number\",\n        \"std\": 1.6860719630008774,\n        \"min\": 14.380000114440918,\n        \"max\": 23.420000076293945,\n        \"num_unique_values\": 151,\n        \"samples\": [\n          16.989999771118164,\n          16.18000030517578,\n          17.969999313354492\n        ],\n        \"semantic_type\": \"\",\n        \"description\": \"\"\n      }\n    },\n    {\n      \"column\": \"t-3\",\n      \"properties\": {\n        \"dtype\": \"number\",\n        \"std\": 1.6854658833424907,\n        \"min\": 14.380000114440918,\n        \"max\": 23.420000076293945,\n        \"num_unique_values\": 151,\n        \"samples\": [\n          16.579999923706055,\n          16.049999237060547,\n          17.510000228881836\n        ],\n        \"semantic_type\": \"\",\n        \"description\": \"\"\n      }\n    },\n    {\n      \"column\": \"t-2\",\n      \"properties\": {\n        \"dtype\": \"number\",\n        \"std\": 1.6839722769487122,\n        \"min\": 14.380000114440918,\n        \"max\": 23.420000076293945,\n        \"num_unique_values\": 150,\n        \"samples\": [\n          16.700000762939453,\n          15.3100004196167,\n          15.529999732971191\n        ],\n        \"semantic_type\": \"\",\n        \"description\": \"\"\n      }\n    },\n    {\n      \"column\": \"t-1\",\n      \"properties\": {\n        \"dtype\": \"number\",\n        \"std\": 1.6840906170314427,\n        \"min\": 14.380000114440918,\n        \"max\": 23.420000076293945,\n        \"num_unique_values\": 150,\n        \"samples\": [\n          16.989999771118164,\n          15.670000076293945,\n          15.34000015258789\n        ],\n        \"semantic_type\": \"\",\n        \"description\": \"\"\n      }\n    },\n    {\n      \"column\": \"t\",\n      \"properties\": {\n        \"dtype\": \"number\",\n        \"std\": 1.6872679240064097,\n        \"min\": 14.380000114440918,\n        \"max\": 23.420000076293945,\n        \"num_unique_values\": 151,\n        \"samples\": [\n          18.920000076293945,\n          16.059999465942383,\n          16.639999389648438\n        ],\n        \"semantic_type\": \"\",\n        \"description\": \"\"\n      }\n    }\n  ]\n}"
            }
          },
          "metadata": {},
          "execution_count": 67
        }
      ]
    },
    {
      "cell_type": "markdown",
      "source": [
        "Organizado os dados desse modo podemos separar a primeira porção dos dados, $0.8$, para o treinamento do modelo e aplicarmos ao restante, $0.2$, o *forecasting* observando os resultados."
      ],
      "metadata": {
        "id": "i4xJu8MOLAvy"
      }
    },
    {
      "cell_type": "code",
      "source": [
        "def split_train_test(X, y, test_perc=0.2):\n",
        "\n",
        "  test_size = int(len(df) * test_perc)\n",
        "  train_size = len(df) - test_size\n",
        "\n",
        "  X_train, y_train  = X[:train_size], y[:train_size]\n",
        "  X_test, y_test = X[train_size:], y[train_size:]\n",
        "\n",
        "  return X_train, y_train, X_test, y_test\n",
        "\n",
        "X = df.drop(columns='t')\n",
        "y = df[['t']]\n",
        "\n",
        "X_train, y_train, X_test, y_test = split_train_test(X, y, test_perc=0.2)"
      ],
      "metadata": {
        "id": "CXmCylnnLAvy"
      },
      "execution_count": null,
      "outputs": []
    },
    {
      "cell_type": "markdown",
      "source": [
        "O código para aplicação do Aprendizado de Máquina é o mesmo que empregamos antes e você pode empregar quaisquer dos regressores do `scikit_learn`.\n",
        "\n"
      ],
      "metadata": {
        "id": "2iCEbw7_LAvy"
      }
    },
    {
      "cell_type": "markdown",
      "source": [
        "######## Decision Tree Regressor"
      ],
      "metadata": {
        "id": "MsfokTRjNZNZ"
      }
    },
    {
      "cell_type": "code",
      "execution_count": null,
      "metadata": {
        "id": "7bw1CEQtLEyt"
      },
      "outputs": [],
      "source": [
        "from sklearn.tree import DecisionTreeRegressor\n",
        "\n",
        "reg = DecisionTreeRegressor(random_state=0)\n",
        "reg.fit(X_train, y_train)\n",
        "\n",
        "y_pred = reg.predict(X)"
      ]
    },
    {
      "cell_type": "markdown",
      "source": [
        "#2_"
      ],
      "metadata": {
        "id": "eI8uBpLV-V-m"
      }
    },
    {
      "cell_type": "code",
      "source": [
        "plot_forecast(y, y_pred, X_train, title='AVIR predict - Decision Tree Regressor')"
      ],
      "metadata": {
        "id": "gsxWZeY2B_jl",
        "colab": {
          "base_uri": "https://localhost:8080/",
          "height": 414
        },
        "outputId": "5f1a178c-b000-4c05-b4d4-81e97e72199d"
      },
      "execution_count": null,
      "outputs": [
        {
          "output_type": "display_data",
          "data": {
            "text/plain": [
              "<Figure size 700x400 with 1 Axes>"
            ],
            "image/png": "[encoded data removed]"
          },
          "metadata": {}
        }
      ]
    },
    {
      "cell_type": "code",
      "source": [
        "cur_metrics = forecast_accuracy(y_pred[len(y_train):], y[len(y_train):].values.reshape(-1))\n",
        "dict_metrics['DecisionTreeRegressor'] = cur_metrics"
      ],
      "metadata": {
        "id": "uBQshy6ICDSb",
        "colab": {
          "base_uri": "https://localhost:8080/"
        },
        "outputId": "18a8a86c-58f5-46b3-b9b8-29cef2f4f4ac"
      },
      "execution_count": null,
      "outputs": [
        {
          "output_type": "stream",
          "name": "stdout",
          "text": [
            "MSE: \t 1.30\n",
            "MAPE: \t 0.05\n",
            "ME: \t 0.26\n",
            "MAE: \t 0.88\n",
            "MPE: \t 0.01\n",
            "RMSE: \t 1.14\n",
            "ACF1: \t 0.20\n",
            "CORR: \t 0.66\n"
          ]
        }
      ]
    },
    {
      "cell_type": "markdown",
      "source": [
        "# 3"
      ],
      "metadata": {
        "id": "6CcsAbOL-Zye"
      }
    },
    {
      "cell_type": "markdown",
      "source": [
        "######## XGBoost Regressor\n",
        "\n"
      ],
      "metadata": {
        "id": "fH3Ijzc1CjZD"
      }
    },
    {
      "cell_type": "code",
      "source": [
        "from xgboost.sklearn import XGBRegressor\n",
        "\n",
        "reg =  XGBRegressor(random_state=0)\n",
        "reg.fit(X_train,y_train.values.reshape(-1))\n",
        "\n",
        "y_pred = reg.predict(X)"
      ],
      "metadata": {
        "id": "6_-bZWx7TErm"
      },
      "execution_count": null,
      "outputs": []
    },
    {
      "cell_type": "markdown",
      "source": [
        "#3_"
      ],
      "metadata": {
        "id": "mcIxvX70-dgp"
      }
    },
    {
      "cell_type": "code",
      "source": [
        "plot_forecast(y, y_pred, X_train, title='AVIR predict - XGBoost Regressor')\n",
        "\n",
        "cur_metrics = forecast_accuracy(y_pred[len(y_train):], y[len(y_train):].values.reshape(-1))\n",
        "dict_metrics['GradientBoostingRegressor'] = cur_metrics"
      ],
      "metadata": {
        "id": "ZOT_h-e90bid",
        "colab": {
          "base_uri": "https://localhost:8080/",
          "height": 560
        },
        "outputId": "cc291fd1-8b56-475b-d753-e87e0b7c11b0"
      },
      "execution_count": null,
      "outputs": [
        {
          "output_type": "display_data",
          "data": {
            "text/plain": [
              "<Figure size 700x400 with 1 Axes>"
            ],
            "image/png": "[encoded data removed]"
          },
          "metadata": {}
        },
        {
          "output_type": "stream",
          "name": "stdout",
          "text": [
            "MSE: \t 0.49\n",
            "MAPE: \t 0.03\n",
            "ME: \t -0.16\n",
            "MAE: \t 0.55\n",
            "MPE: \t -0.01\n",
            "RMSE: \t 0.70\n",
            "ACF1: \t 0.04\n",
            "CORR: \t 0.75\n"
          ]
        }
      ]
    },
    {
      "cell_type": "markdown",
      "source": [
        "#4"
      ],
      "metadata": {
        "id": "6GZdsJEy-gee"
      }
    },
    {
      "cell_type": "markdown",
      "source": [
        "As métricas de avaliação de um modelo de previsão podem ser muitas e, em geral, não temos nenhuma métrica que defina este ou aquele modelo como o melhor em quaisquer casos. Mas você pode observar que os modelos de Aprendizado de Máquina conseguem aproximar bastante bem a série de dados do nosso exemplo quando comparado ao modelo tradicional ARIMA (veja, por exemplo o erro absoluto médio MAE) requerendo um mínimo de esforço de análise e poderíamos ainda refinar esses modelos para chegar a métricas ainda melhores, pois empregamos aqui parâmetros padrão em todos eles. Há também formas de variar os parâmetros dos modelos de modo a encontrar de forma *automática* os melhores modelos, algo que conhecemos como *Auto ML* e semelhante ao que você viu nos capítulos anteriores com o *Auto ARIMA* do pacote `pmdarima`."
      ],
      "metadata": {
        "id": "vwwVQyE5Qwx4"
      }
    },
    {
      "cell_type": "markdown",
      "source": [
        "## Modelos Neurais\n",
        "\n",
        "As Redes Neurais constituem uma classe bastante específica de modelos de Aprendizado de Máquina e Redes Profundas, Deep Learning, estão em geral por traz da maior parte das aplicações modernas que envolvem grandes volumes de dados e dados multidimensionais como os exemplos da Google, YouTube e Tesla que citamos acima.    \n",
        "\n",
        "Apesar disso o modelo de um neurônio artificial é bastante simples."
      ],
      "metadata": {
        "id": "T_fuwo1zC1Kq"
      }
    },
    {
      "cell_type": "markdown",
      "metadata": {
        "_uuid": "9dd9e07c590ca22f0c525222f60f0ebff4e092c6",
        "id": "HpKAvplIAYQ3"
      },
      "source": [
        "#### Neurônio Artificial: Perceptron\n",
        "\n",
        "Um neurônio artificial implementa uma combinação linear de entradas a qual aplica uma **função de ativação** $\\sigma$ para produzir uma saída.\n",
        "\n",
        "$$ f(X) = \\sigma( w_0 + w_1 x_1 + ... + w_n x_n ) $$\n",
        "\n",
        "O treinamento do neurônio é feito ajustando-se os pesos $w_n$ para minimizar o erro de predição e estimar a saída $f(X) \\cong y$.\n",
        "\n",
        "$$ \\min_{w_i} \\sum || f(X)- y || $$\n",
        "\n",
        "Semelhante aos coeficientes de uma regressão linear, aprendizado de um neurônio passa a ser um **problema de otimização** em buscar os valores $w_0, w_1, ..., w_n$ que melhor se ajustam aos dados.\n"
      ]
    },
    {
      "cell_type": "markdown",
      "metadata": {
        "id": "F1FHrlVuZ1WR"
      },
      "source": [
        "###### Funções de Ativação\n",
        "\n",
        "Combinações de operadores lineares são também lineares. Desse modo, sem uma função de ativação, as redes neurais seriam equivalentes a um modelo  linear. As funções de ativação são uma escolha importante na arquitetura de uma rede neural e facilitam a modelagem de relações mais complexas. As funções de ativação mais comuns encontram-se abaixo.\n",
        "\n",
        "$$ f(x) = \\frac{1}{(1 + e^{-x})} \\quad \\textrm{, Logistic } $$\n",
        "\n",
        "$$ f(x) = \\frac{e^{x} - e^{-x}}{e^{x} + e^{-x}}\\quad \\textrm{, Tanh} $$\n",
        "\n",
        "$$ f(x) = max(0,x) \\quad \\textrm{, ReLu} $$\n",
        "\n",
        "$$ f(x) = log(1 + e^{x}) \\quad \\textrm{, Softplus} $$\n",
        "\n",
        "E, não sem motivo, essa função leva o mesmo nome da função neuronal que vimos antes ;-)."
      ]
    },
    {
      "cell_type": "markdown",
      "source": [
        "#### Redes Neurais\n",
        "\n",
        "Um único neurônio artificial tem uma capacidade bastante limitada representar funções. Para aumentarmos essa capacidade e podemos ter um modelo de aproximação universal esses neurônios podem ser combinados em camadas de modo que as saídas dos neurônios de uma camada possam ser entrada para camadas seguintes de neurônios.\n",
        "\n",
        "As camadas externas são as camadas de entrada e saída da rede. As camadas internas são as camadas de ocultas (hidden) da rede. As redes podem ter diferentes configurações com diferentes números de entradas, saídas e número de camadas.\n",
        "\n",
        "Essas redes são conhecidas como redes multi-camada, MLP multi-layer perceptron ou feed-forward  e as entradas são processadas em sequência, uma camada após a outra.\n",
        "\n",
        "O problema de aprendizado do modelo é, neste caso, bastante mais complexo e é obtido em um processo de iterações e aproximações sucessivas, à exemplo de um método de gradiente para o cálculo de zero de funções. O que importa é sabermos que poderão ser encontrados um conjunto de pesos $w_{j,i}$, onde $j$ é agora a dimensão camada da rede, e que aproximarão o conjunto de dados de treinamento.\n",
        "\n",
        "\n",
        "<figure>\n",
        "<br>\n",
        "<img src=\"https://github.com/Introducao-Series-Temporais-em-Python/Book/raw/main/Figures/nn.png\" width=400, align=\"center\">\n",
        "<br>\n",
        "<br>\n",
        "\n",
        "\n",
        "\n",
        "\n",
        "\n"
      ],
      "metadata": {
        "id": "tG0QuiuQIC3y"
      }
    },
    {
      "cell_type": "markdown",
      "source": [
        "<small>\n",
        "<b>\n",
        "Figura 4. Esquema de uma Rede de Neurônios Multicamada, MLP."
      ],
      "metadata": {
        "id": "LIpjcD4cmn6B"
      }
    },
    {
      "cell_type": "markdown",
      "metadata": {
        "id": "gSFl3l-d4T1k"
      },
      "source": [
        "#### `Scikit-Learn` MLP\n",
        "\n",
        "A biblioteca `Scikit-Learn` implementa um modelo neural multicamada MLP. A forma de aplicação é a mesma dos regressores anteriores.\n"
      ]
    },
    {
      "cell_type": "code",
      "source": [
        "from sklearn.neural_network import MLPRegressor\n",
        "\n",
        "reg = MLPRegressor(hidden_layer_sizes=(8), random_state=1, max_iter=2000)\n",
        "reg.fit(X_train,y_train.values.reshape(-1))\n",
        "\n",
        "y_pred = reg.predict(X)\n",
        "\n"
      ],
      "metadata": {
        "id": "DniB5i-SOdJG"
      },
      "execution_count": null,
      "outputs": []
    },
    {
      "cell_type": "markdown",
      "source": [
        "#4_"
      ],
      "metadata": {
        "id": "-I0MWI7E-jUF"
      }
    },
    {
      "cell_type": "code",
      "source": [
        "plot_forecast(y, y_pred, X_train, title='AVIR predict - MLP Multi-Layer Perceptron Regressor')\n",
        "\n",
        "cur_metrics = forecast_accuracy(y_pred[len(y_train):], y[len(y_train):].values.reshape(-1))\n",
        "dict_metrics['MLPRegressor'] = cur_metrics"
      ],
      "metadata": {
        "id": "1zIlXlGs0ySF",
        "colab": {
          "base_uri": "https://localhost:8080/",
          "height": 560
        },
        "outputId": "f37cd8d4-4c36-4d54-951e-bb0a6befae72"
      },
      "execution_count": null,
      "outputs": [
        {
          "output_type": "display_data",
          "data": {
            "text/plain": [
              "<Figure size 700x400 with 1 Axes>"
            ],
            "image/png": "[encoded data removed]"
          },
          "metadata": {}
        },
        {
          "output_type": "stream",
          "name": "stdout",
          "text": [
            "MSE: \t 0.23\n",
            "MAPE: \t 0.02\n",
            "ME: \t -0.05\n",
            "MAE: \t 0.36\n",
            "MPE: \t -0.00\n",
            "RMSE: \t 0.48\n",
            "ACF1: \t 0.09\n",
            "CORR: \t 0.85\n"
          ]
        }
      ]
    },
    {
      "cell_type": "markdown",
      "source": [],
      "metadata": {
        "id": "LrKXgbyL-32W"
      }
    },
    {
      "cell_type": "code",
      "source": [
        "print('Mean Absolute Error')\n",
        "print()\n",
        "\n",
        "for key, item in dict_metrics.items():\n",
        "  print(f\"{key} MAE: {item['MAE']:.2f}\")"
      ],
      "metadata": {
        "id": "ZCGIXtIaWFWd",
        "colab": {
          "base_uri": "https://localhost:8080/"
        },
        "outputId": "c852b189-a963-468b-863c-3fa47c892282"
      },
      "execution_count": null,
      "outputs": [
        {
          "output_type": "stream",
          "name": "stdout",
          "text": [
            "Mean Absolute Error\n",
            "\n",
            "ARIMA Model MAE: 0.36\n",
            "DecisionTreeRegressor MAE: 0.88\n",
            "GradientBoostingRegressor MAE: 0.55\n",
            "MLPRegressor MAE: 0.36\n"
          ]
        }
      ]
    },
    {
      "cell_type": "markdown",
      "source": [
        "#5"
      ],
      "metadata": {
        "id": "frOUxqhk-5BO"
      }
    },
    {
      "cell_type": "markdown",
      "source": [
        "Do mesmo modo que nos modelos anteriores o modelo MLP aproxima bastante bem a série de dados e poderíamos refinar o modelo para obter resultados ainda melhores. Em vez disso, vamos entender como podemos empregar esses mesmos modelos para Séries Multivariadas, isto é, adicionando uma variável exógena a exemplo do que você viu no capítulo anterior com o SARIMAX. Na verdade modelos Multivariados, são mais amplos e envolvem tanto múltiplas variáveis de entrada como de saída, mas aqui empregamos o termo unicamente denominar para Séries com mais de uma entrada."
      ],
      "metadata": {
        "id": "0Wc_bmqXSrUq"
      }
    },
    {
      "cell_type": "markdown",
      "source": [
        "#### Modelo MultiVariado Simples, $(x^a_t, x^b_t,...) \\rightarrow x^a_{t+1}$\n",
        "\n",
        "Suponha que você tem uma série $x_t^a$ que deseja estimar os valores, por exemplo o número de Bikes alugadas. Sabendo, entretanto, que o aluguel dessas Bikes depende das condições do clima, podemos empregar não só os valores passados da série  $x_t^a$, mas também os valores da série de clima, como a temperatura  $x_t^b$ para aprimorar a previsão da série  $x_t^a$.\n",
        "\n",
        "$$  f: (x_{t-n}^a,x_{t-n}^b), ..., (x_{t-1}^a,x_{t-1}^b)   \\rightarrow x_t^a $$\n",
        "\n",
        "Isso é bastante simples de fazer com modelos de Aprendizado de Máquina bastando, para isso, construir esse mapeamento de entradas e saídas adicionando a nova série de entradas.\n",
        "\n",
        "Vamos adicionar ao nosso modelo de previsão anterior os dados de velocidade do vento e verificar o quanto o nosso modelo melhora na previsão de demanda por bicicletas."
      ],
      "metadata": {
        "id": "bNzZl1ChS8aM"
      }
    },
    {
      "cell_type": "code",
      "source": [
        "import yfinance as yf\n",
        "\n",
        "ticker = \"IBB\"\n",
        "\n",
        "start_date = '2024-01-02'\n",
        "\n",
        "ibb_df = yf.download(ticker, start=start_date)\n",
        "\n",
        "ibb_df.Close.head()\n"
      ],
      "metadata": {
        "colab": {
          "base_uri": "https://localhost:8080/",
          "height": 290
        },
        "id": "cNvwsNWEp1UW",
        "outputId": "21f44681-3167-40cf-afeb-f9f0050da0d3"
      },
      "execution_count": null,
      "outputs": [
        {
          "output_type": "stream",
          "name": "stderr",
          "text": [
            "\r[*********************100%***********************]  1 of 1 completed\n"
          ]
        },
        {
          "output_type": "execute_result",
          "data": {
            "text/plain": [
              "Date\n",
              "2024-01-02    138.070007\n",
              "2024-01-03    135.919998\n",
              "2024-01-04    136.520004\n",
              "2024-01-05    136.119995\n",
              "2024-01-08    139.389999\n",
              "Name: Close, dtype: float64"
            ],
            "text/html": [
              "<div>\n",
              "<style scoped>\n",
              "    .dataframe tbody tr th:only-of-type {\n",
              "        vertical-align: middle;\n",
              "    }\n",
              "\n",
              "    .dataframe tbody tr th {\n",
              "        vertical-align: top;\n",
              "    }\n",
              "\n",
              "    .dataframe thead th {\n",
              "        text-align: right;\n",
              "    }\n",
              "</style>\n",
              "<table border=\"1\" class=\"dataframe\">\n",
              "  <thead>\n",
              "    <tr style=\"text-align: right;\">\n",
              "      <th></th>\n",
              "      <th>Close</th>\n",
              "    </tr>\n",
              "    <tr>\n",
              "      <th>Date</th>\n",
              "      <th></th>\n",
              "    </tr>\n",
              "  </thead>\n",
              "  <tbody>\n",
              "    <tr>\n",
              "      <th>2024-01-02</th>\n",
              "      <td>138.070007</td>\n",
              "    </tr>\n",
              "    <tr>\n",
              "      <th>2024-01-03</th>\n",
              "      <td>135.919998</td>\n",
              "    </tr>\n",
              "    <tr>\n",
              "      <th>2024-01-04</th>\n",
              "      <td>136.520004</td>\n",
              "    </tr>\n",
              "    <tr>\n",
              "      <th>2024-01-05</th>\n",
              "      <td>136.119995</td>\n",
              "    </tr>\n",
              "    <tr>\n",
              "      <th>2024-01-08</th>\n",
              "      <td>139.389999</td>\n",
              "    </tr>\n",
              "  </tbody>\n",
              "</table>\n",
              "</div><br><label><b>dtype:</b> float64</label>"
            ]
          },
          "metadata": {},
          "execution_count": 77
        }
      ]
    },
    {
      "cell_type": "code",
      "source": [
        "df_wind = ml_timeseries_df(ibb_df[['Close']], n_lags=7, prefix='wind_')\n",
        "df_wind.head()"
      ],
      "metadata": {
        "colab": {
          "base_uri": "https://localhost:8080/",
          "height": 206
        },
        "id": "NLoqnO_RrMh8",
        "outputId": "294dd9fb-5ca1-4f08-a603-133bf9c2c436"
      },
      "execution_count": null,
      "outputs": [
        {
          "output_type": "execute_result",
          "data": {
            "text/plain": [
              "     wind_t-7    wind_t-6    wind_t-5    wind_t-4    wind_t-3    wind_t-2  \\\n",
              "0  138.070007  135.919998  136.520004  136.119995  139.389999  138.940002   \n",
              "1  135.919998  136.520004  136.119995  139.389999  138.940002  137.960007   \n",
              "2  136.520004  136.119995  139.389999  138.940002  137.960007  136.880005   \n",
              "3  136.119995  139.389999  138.940002  137.960007  136.880005  137.130005   \n",
              "4  139.389999  138.940002  137.960007  136.880005  137.130005  135.929993   \n",
              "\n",
              "     wind_t-1           t  \n",
              "0  137.960007  136.880005  \n",
              "1  136.880005  137.130005  \n",
              "2  137.130005  135.929993  \n",
              "3  135.929993  135.020004  \n",
              "4  135.020004  134.550003  "
            ],
            "text/html": [
              "\n",
              "  <div id=\"df-887ee74e-ee1a-4e61-a2cd-46ec5ff64790\" class=\"colab-df-container\">\n",
              "    <div>\n",
              "<style scoped>\n",
              "    .dataframe tbody tr th:only-of-type {\n",
              "        vertical-align: middle;\n",
              "    }\n",
              "\n",
              "    .dataframe tbody tr th {\n",
              "        vertical-align: top;\n",
              "    }\n",
              "\n",
              "    .dataframe thead th {\n",
              "        text-align: right;\n",
              "    }\n",
              "</style>\n",
              "<table border=\"1\" class=\"dataframe\">\n",
              "  <thead>\n",
              "    <tr style=\"text-align: right;\">\n",
              "      <th></th>\n",
              "      <th>wind_t-7</th>\n",
              "      <th>wind_t-6</th>\n",
              "      <th>wind_t-5</th>\n",
              "      <th>wind_t-4</th>\n",
              "      <th>wind_t-3</th>\n",
              "      <th>wind_t-2</th>\n",
              "      <th>wind_t-1</th>\n",
              "      <th>t</th>\n",
              "    </tr>\n",
              "  </thead>\n",
              "  <tbody>\n",
              "    <tr>\n",
              "      <th>0</th>\n",
              "      <td>138.070007</td>\n",
              "      <td>135.919998</td>\n",
              "      <td>136.520004</td>\n",
              "      <td>136.119995</td>\n",
              "      <td>139.389999</td>\n",
              "      <td>138.940002</td>\n",
              "      <td>137.960007</td>\n",
              "      <td>136.880005</td>\n",
              "    </tr>\n",
              "    <tr>\n",
              "      <th>1</th>\n",
              "      <td>135.919998</td>\n",
              "      <td>136.520004</td>\n",
              "      <td>136.119995</td>\n",
              "      <td>139.389999</td>\n",
              "      <td>138.940002</td>\n",
              "      <td>137.960007</td>\n",
              "      <td>136.880005</td>\n",
              "      <td>137.130005</td>\n",
              "    </tr>\n",
              "    <tr>\n",
              "      <th>2</th>\n",
              "      <td>136.520004</td>\n",
              "      <td>136.119995</td>\n",
              "      <td>139.389999</td>\n",
              "      <td>138.940002</td>\n",
              "      <td>137.960007</td>\n",
              "      <td>136.880005</td>\n",
              "      <td>137.130005</td>\n",
              "      <td>135.929993</td>\n",
              "    </tr>\n",
              "    <tr>\n",
              "      <th>3</th>\n",
              "      <td>136.119995</td>\n",
              "      <td>139.389999</td>\n",
              "      <td>138.940002</td>\n",
              "      <td>137.960007</td>\n",
              "      <td>136.880005</td>\n",
              "      <td>137.130005</td>\n",
              "      <td>135.929993</td>\n",
              "      <td>135.020004</td>\n",
              "    </tr>\n",
              "    <tr>\n",
              "      <th>4</th>\n",
              "      <td>139.389999</td>\n",
              "      <td>138.940002</td>\n",
              "      <td>137.960007</td>\n",
              "      <td>136.880005</td>\n",
              "      <td>137.130005</td>\n",
              "      <td>135.929993</td>\n",
              "      <td>135.020004</td>\n",
              "      <td>134.550003</td>\n",
              "    </tr>\n",
              "  </tbody>\n",
              "</table>\n",
              "</div>\n",
              "    <div class=\"colab-df-buttons\">\n",
              "\n",
              "  <div class=\"colab-df-container\">\n",
              "    <button class=\"colab-df-convert\" onclick=\"convertToInteractive('df-887ee74e-ee1a-4e61-a2cd-46ec5ff64790')\"\n",
              "            title=\"Convert this dataframe to an interactive table.\"\n",
              "            style=\"display:none;\">\n",
              "\n",
              "  <svg xmlns=\"http://www.w3.org/2000/svg\" height=\"24px\" viewBox=\"0 -960 960 960\">\n",
              "    <path d=\"M120-120v-720h720v720H120Zm60-500h600v-160H180v160Zm220 220h160v-160H400v160Zm0 220h160v-160H400v160ZM180-400h160v-160H180v160Zm440 0h160v-160H620v160ZM180-180h160v-160H180v160Zm440 0h160v-160H620v160Z\"/>\n",
              "  </svg>\n",
              "    </button>\n",
              "\n",
              "  <style>\n",
              "    .colab-df-container {\n",
              "      display:flex;\n",
              "      gap: 12px;\n",
              "    }\n",
              "\n",
              "    .colab-df-convert {\n",
              "      background-color: #E8F0FE;\n",
              "      border: none;\n",
              "      border-radius: 50%;\n",
              "      cursor: pointer;\n",
              "      display: none;\n",
              "      fill: #1967D2;\n",
              "      height: 32px;\n",
              "      padding: 0 0 0 0;\n",
              "      width: 32px;\n",
              "    }\n",
              "\n",
              "    .colab-df-convert:hover {\n",
              "      background-color: #E2EBFA;\n",
              "      box-shadow: 0px 1px 2px rgba(60, 64, 67, 0.3), 0px 1px 3px 1px rgba(60, 64, 67, 0.15);\n",
              "      fill: #174EA6;\n",
              "    }\n",
              "\n",
              "    .colab-df-buttons div {\n",
              "      margin-bottom: 4px;\n",
              "    }\n",
              "\n",
              "    [theme=dark] .colab-df-convert {\n",
              "      background-color: #3B4455;\n",
              "      fill: #D2E3FC;\n",
              "    }\n",
              "\n",
              "    [theme=dark] .colab-df-convert:hover {\n",
              "      background-color: #434B5C;\n",
              "      box-shadow: 0px 1px 3px 1px rgba(0, 0, 0, 0.15);\n",
              "      filter: drop-shadow(0px 1px 2px rgba(0, 0, 0, 0.3));\n",
              "      fill: #FFFFFF;\n",
              "    }\n",
              "  </style>\n",
              "\n",
              "    <script>\n",
              "      const buttonEl =\n",
              "        document.querySelector('#df-887ee74e-ee1a-4e61-a2cd-46ec5ff64790 button.colab-df-convert');\n",
              "      buttonEl.style.display =\n",
              "        google.colab.kernel.accessAllowed ? 'block' : 'none';\n",
              "\n",
              "      async function convertToInteractive(key) {\n",
              "        const element = document.querySelector('#df-887ee74e-ee1a-4e61-a2cd-46ec5ff64790');\n",
              "        const dataTable =\n",
              "          await google.colab.kernel.invokeFunction('convertToInteractive',\n",
              "                                                    [key], {});\n",
              "        if (!dataTable) return;\n",
              "\n",
              "        const docLinkHtml = 'Like what you see? Visit the ' +\n",
              "          '<a target=\"_blank\" href=https://colab.research.google.com/notebooks/data_table.ipynb>data table notebook</a>'\n",
              "          + ' to learn more about interactive tables.';\n",
              "        element.innerHTML = '';\n",
              "        dataTable['output_type'] = 'display_data';\n",
              "        await google.colab.output.renderOutput(dataTable, element);\n",
              "        const docLink = document.createElement('div');\n",
              "        docLink.innerHTML = docLinkHtml;\n",
              "        element.appendChild(docLink);\n",
              "      }\n",
              "    </script>\n",
              "  </div>\n",
              "\n",
              "\n",
              "<div id=\"df-a590f26f-262c-4f7f-866e-112c20c8f2b2\">\n",
              "  <button class=\"colab-df-quickchart\" onclick=\"quickchart('df-a590f26f-262c-4f7f-866e-112c20c8f2b2')\"\n",
              "            title=\"Suggest charts\"\n",
              "            style=\"display:none;\">\n",
              "\n",
              "<svg xmlns=\"http://www.w3.org/2000/svg\" height=\"24px\"viewBox=\"0 0 24 24\"\n",
              "     width=\"24px\">\n",
              "    <g>\n",
              "        <path d=\"M19 3H5c-1.1 0-2 .9-2 2v14c0 1.1.9 2 2 2h14c1.1 0 2-.9 2-2V5c0-1.1-.9-2-2-2zM9 17H7v-7h2v7zm4 0h-2V7h2v10zm4 0h-2v-4h2v4z\"/>\n",
              "    </g>\n",
              "</svg>\n",
              "  </button>\n",
              "\n",
              "<style>\n",
              "  .colab-df-quickchart {\n",
              "      --bg-color: #E8F0FE;\n",
              "      --fill-color: #1967D2;\n",
              "      --hover-bg-color: #E2EBFA;\n",
              "      --hover-fill-color: #174EA6;\n",
              "      --disabled-fill-color: #AAA;\n",
              "      --disabled-bg-color: #DDD;\n",
              "  }\n",
              "\n",
              "  [theme=dark] .colab-df-quickchart {\n",
              "      --bg-color: #3B4455;\n",
              "      --fill-color: #D2E3FC;\n",
              "      --hover-bg-color: #434B5C;\n",
              "      --hover-fill-color: #FFFFFF;\n",
              "      --disabled-bg-color: #3B4455;\n",
              "      --disabled-fill-color: #666;\n",
              "  }\n",
              "\n",
              "  .colab-df-quickchart {\n",
              "    background-color: var(--bg-color);\n",
              "    border: none;\n",
              "    border-radius: 50%;\n",
              "    cursor: pointer;\n",
              "    display: none;\n",
              "    fill: var(--fill-color);\n",
              "    height: 32px;\n",
              "    padding: 0;\n",
              "    width: 32px;\n",
              "  }\n",
              "\n",
              "  .colab-df-quickchart:hover {\n",
              "    background-color: var(--hover-bg-color);\n",
              "    box-shadow: 0 1px 2px rgba(60, 64, 67, 0.3), 0 1px 3px 1px rgba(60, 64, 67, 0.15);\n",
              "    fill: var(--button-hover-fill-color);\n",
              "  }\n",
              "\n",
              "  .colab-df-quickchart-complete:disabled,\n",
              "  .colab-df-quickchart-complete:disabled:hover {\n",
              "    background-color: var(--disabled-bg-color);\n",
              "    fill: var(--disabled-fill-color);\n",
              "    box-shadow: none;\n",
              "  }\n",
              "\n",
              "  .colab-df-spinner {\n",
              "    border: 2px solid var(--fill-color);\n",
              "    border-color: transparent;\n",
              "    border-bottom-color: var(--fill-color);\n",
              "    animation:\n",
              "      spin 1s steps(1) infinite;\n",
              "  }\n",
              "\n",
              "  @keyframes spin {\n",
              "    0% {\n",
              "      border-color: transparent;\n",
              "      border-bottom-color: var(--fill-color);\n",
              "      border-left-color: var(--fill-color);\n",
              "    }\n",
              "    20% {\n",
              "      border-color: transparent;\n",
              "      border-left-color: var(--fill-color);\n",
              "      border-top-color: var(--fill-color);\n",
              "    }\n",
              "    30% {\n",
              "      border-color: transparent;\n",
              "      border-left-color: var(--fill-color);\n",
              "      border-top-color: var(--fill-color);\n",
              "      border-right-color: var(--fill-color);\n",
              "    }\n",
              "    40% {\n",
              "      border-color: transparent;\n",
              "      border-right-color: var(--fill-color);\n",
              "      border-top-color: var(--fill-color);\n",
              "    }\n",
              "    60% {\n",
              "      border-color: transparent;\n",
              "      border-right-color: var(--fill-color);\n",
              "    }\n",
              "    80% {\n",
              "      border-color: transparent;\n",
              "      border-right-color: var(--fill-color);\n",
              "      border-bottom-color: var(--fill-color);\n",
              "    }\n",
              "    90% {\n",
              "      border-color: transparent;\n",
              "      border-bottom-color: var(--fill-color);\n",
              "    }\n",
              "  }\n",
              "</style>\n",
              "\n",
              "  <script>\n",
              "    async function quickchart(key) {\n",
              "      const quickchartButtonEl =\n",
              "        document.querySelector('#' + key + ' button');\n",
              "      quickchartButtonEl.disabled = true;  // To prevent multiple clicks.\n",
              "      quickchartButtonEl.classList.add('colab-df-spinner');\n",
              "      try {\n",
              "        const charts = await google.colab.kernel.invokeFunction(\n",
              "            'suggestCharts', [key], {});\n",
              "      } catch (error) {\n",
              "        console.error('Error during call to suggestCharts:', error);\n",
              "      }\n",
              "      quickchartButtonEl.classList.remove('colab-df-spinner');\n",
              "      quickchartButtonEl.classList.add('colab-df-quickchart-complete');\n",
              "    }\n",
              "    (() => {\n",
              "      let quickchartButtonEl =\n",
              "        document.querySelector('#df-a590f26f-262c-4f7f-866e-112c20c8f2b2 button');\n",
              "      quickchartButtonEl.style.display =\n",
              "        google.colab.kernel.accessAllowed ? 'block' : 'none';\n",
              "    })();\n",
              "  </script>\n",
              "</div>\n",
              "\n",
              "    </div>\n",
              "  </div>\n"
            ],
            "application/vnd.google.colaboratory.intrinsic+json": {
              "type": "dataframe",
              "variable_name": "df_wind",
              "summary": "{\n  \"name\": \"df_wind\",\n  \"rows\": 192,\n  \"fields\": [\n    {\n      \"column\": \"wind_t-7\",\n      \"properties\": {\n        \"dtype\": \"number\",\n        \"std\": 5.762274590703576,\n        \"min\": 124.63999938964844,\n        \"max\": 149.47000122070312,\n        \"num_unique_values\": 179,\n        \"samples\": [\n          130.64999389648438,\n          135.69000244140625,\n          127.83999633789062\n        ],\n        \"semantic_type\": \"\",\n        \"description\": \"\"\n      }\n    },\n    {\n      \"column\": \"wind_t-6\",\n      \"properties\": {\n        \"dtype\": \"number\",\n        \"std\": 5.768590612390004,\n        \"min\": 124.63999938964844,\n        \"max\": 149.47000122070312,\n        \"num_unique_values\": 178,\n        \"samples\": [\n          134.3800048828125,\n          138.0399932861328,\n          141.55999755859375\n        ],\n        \"semantic_type\": \"\",\n        \"description\": \"\"\n      }\n    },\n    {\n      \"column\": \"wind_t-5\",\n      \"properties\": {\n        \"dtype\": \"number\",\n        \"std\": 5.775000844024707,\n        \"min\": 124.63999938964844,\n        \"max\": 149.47000122070312,\n        \"num_unique_values\": 179,\n        \"samples\": [\n          132.9600067138672,\n          137.49000549316406,\n          126.97000122070312\n        ],\n        \"semantic_type\": \"\",\n        \"description\": \"\"\n      }\n    },\n    {\n      \"column\": \"wind_t-4\",\n      \"properties\": {\n        \"dtype\": \"number\",\n        \"std\": 5.782992242966174,\n        \"min\": 124.63999938964844,\n        \"max\": 149.47000122070312,\n        \"num_unique_values\": 180,\n        \"samples\": [\n          134.60000610351562,\n          138.64999389648438,\n          148.1699981689453\n        ],\n        \"semantic_type\": \"\",\n        \"description\": \"\"\n      }\n    },\n    {\n      \"column\": \"wind_t-3\",\n      \"properties\": {\n        \"dtype\": \"number\",\n        \"std\": 5.790001092516205,\n        \"min\": 124.63999938964844,\n        \"max\": 149.47000122070312,\n        \"num_unique_values\": 180,\n        \"samples\": [\n          134.85000610351562,\n          138.6999969482422,\n          145.66000366210938\n        ],\n        \"semantic_type\": \"\",\n        \"description\": \"\"\n      }\n    },\n    {\n      \"column\": \"wind_t-2\",\n      \"properties\": {\n        \"dtype\": \"number\",\n        \"std\": 5.811950058203189,\n        \"min\": 124.63999938964844,\n        \"max\": 149.47000122070312,\n        \"num_unique_values\": 180,\n        \"samples\": [\n          136.13999938964844,\n          138.0399932861328,\n          145.5\n        ],\n        \"semantic_type\": \"\",\n        \"description\": \"\"\n      }\n    },\n    {\n      \"column\": \"wind_t-1\",\n      \"properties\": {\n        \"dtype\": \"number\",\n        \"std\": 5.834615264865155,\n        \"min\": 124.63999938964844,\n        \"max\": 149.47000122070312,\n        \"num_unique_values\": 180,\n        \"samples\": [\n          133.72000122070312,\n          138.25999450683594,\n          144.7899932861328\n        ],\n        \"semantic_type\": \"\",\n        \"description\": \"\"\n      }\n    },\n    {\n      \"column\": \"t\",\n      \"properties\": {\n        \"dtype\": \"number\",\n        \"std\": 5.857496903900519,\n        \"min\": 124.63999938964844,\n        \"max\": 149.47000122070312,\n        \"num_unique_values\": 180,\n        \"samples\": [\n          134.25,\n          135.7100067138672,\n          142.75\n        ],\n        \"semantic_type\": \"\",\n        \"description\": \"\"\n      }\n    }\n  ]\n}"
            }
          },
          "metadata": {},
          "execution_count": 78
        }
      ]
    },
    {
      "cell_type": "code",
      "source": [
        "##backup\n",
        "\n",
        "##df_wind = ml_timeseries_df(bikes[['wind_speed']], n_lags=7, prefix='wind_')\n",
        "##df_wind.head()"
      ],
      "metadata": {
        "id": "T4UseOOk5Bku"
      },
      "execution_count": null,
      "outputs": []
    },
    {
      "cell_type": "code",
      "source": [
        "df = pd.concat([df_wind.drop(columns='t'), df],axis=1)\n",
        "df.head()\n"
      ],
      "metadata": {
        "id": "nEUMBFO9XhEW",
        "colab": {
          "base_uri": "https://localhost:8080/",
          "height": 226
        },
        "outputId": "a75a6aa2-7aac-4b66-b2b8-103be4d377d4"
      },
      "execution_count": null,
      "outputs": [
        {
          "output_type": "execute_result",
          "data": {
            "text/plain": [
              "     wind_t-7    wind_t-6    wind_t-5    wind_t-4    wind_t-3    wind_t-2  \\\n",
              "0  138.070007  135.919998  136.520004  136.119995  139.389999  138.940002   \n",
              "1  135.919998  136.520004  136.119995  139.389999  138.940002  137.960007   \n",
              "2  136.520004  136.119995  139.389999  138.940002  137.960007  136.880005   \n",
              "3  136.119995  139.389999  138.940002  137.960007  136.880005  137.130005   \n",
              "4  139.389999  138.940002  137.960007  136.880005  137.130005  135.929993   \n",
              "\n",
              "     wind_t-1        t-7        t-6        t-5        t-4        t-3  \\\n",
              "0  137.960007  17.040001  16.219999  16.610001  16.549999  18.250000   \n",
              "1  136.880005  16.219999  16.610001  16.549999  18.250000  17.309999   \n",
              "2  137.130005  16.610001  16.549999  18.250000  17.309999  17.480000   \n",
              "3  135.929993  16.549999  18.250000  17.309999  17.480000  16.889999   \n",
              "4  135.020004  18.250000  17.309999  17.480000  16.889999  16.620001   \n",
              "\n",
              "         t-2        t-1          t  \n",
              "0  17.309999  17.480000  16.889999  \n",
              "1  17.480000  16.889999  16.620001  \n",
              "2  16.889999  16.620001  15.850000  \n",
              "3  16.620001  15.850000  16.459999  \n",
              "4  15.850000  16.459999  16.000000  "
            ],
            "text/html": [
              "\n",
              "  <div id=\"df-4ed01d9f-d9af-4e67-8641-6f9db4e7e98f\" class=\"colab-df-container\">\n",
              "    <div>\n",
              "<style scoped>\n",
              "    .dataframe tbody tr th:only-of-type {\n",
              "        vertical-align: middle;\n",
              "    }\n",
              "\n",
              "    .dataframe tbody tr th {\n",
              "        vertical-align: top;\n",
              "    }\n",
              "\n",
              "    .dataframe thead th {\n",
              "        text-align: right;\n",
              "    }\n",
              "</style>\n",
              "<table border=\"1\" class=\"dataframe\">\n",
              "  <thead>\n",
              "    <tr style=\"text-align: right;\">\n",
              "      <th></th>\n",
              "      <th>wind_t-7</th>\n",
              "      <th>wind_t-6</th>\n",
              "      <th>wind_t-5</th>\n",
              "      <th>wind_t-4</th>\n",
              "      <th>wind_t-3</th>\n",
              "      <th>wind_t-2</th>\n",
              "      <th>wind_t-1</th>\n",
              "      <th>t-7</th>\n",
              "      <th>t-6</th>\n",
              "      <th>t-5</th>\n",
              "      <th>t-4</th>\n",
              "      <th>t-3</th>\n",
              "      <th>t-2</th>\n",
              "      <th>t-1</th>\n",
              "      <th>t</th>\n",
              "    </tr>\n",
              "  </thead>\n",
              "  <tbody>\n",
              "    <tr>\n",
              "      <th>0</th>\n",
              "      <td>138.070007</td>\n",
              "      <td>135.919998</td>\n",
              "      <td>136.520004</td>\n",
              "      <td>136.119995</td>\n",
              "      <td>139.389999</td>\n",
              "      <td>138.940002</td>\n",
              "      <td>137.960007</td>\n",
              "      <td>17.040001</td>\n",
              "      <td>16.219999</td>\n",
              "      <td>16.610001</td>\n",
              "      <td>16.549999</td>\n",
              "      <td>18.250000</td>\n",
              "      <td>17.309999</td>\n",
              "      <td>17.480000</td>\n",
              "      <td>16.889999</td>\n",
              "    </tr>\n",
              "    <tr>\n",
              "      <th>1</th>\n",
              "      <td>135.919998</td>\n",
              "      <td>136.520004</td>\n",
              "      <td>136.119995</td>\n",
              "      <td>139.389999</td>\n",
              "      <td>138.940002</td>\n",
              "      <td>137.960007</td>\n",
              "      <td>136.880005</td>\n",
              "      <td>16.219999</td>\n",
              "      <td>16.610001</td>\n",
              "      <td>16.549999</td>\n",
              "      <td>18.250000</td>\n",
              "      <td>17.309999</td>\n",
              "      <td>17.480000</td>\n",
              "      <td>16.889999</td>\n",
              "      <td>16.620001</td>\n",
              "    </tr>\n",
              "    <tr>\n",
              "      <th>2</th>\n",
              "      <td>136.520004</td>\n",
              "      <td>136.119995</td>\n",
              "      <td>139.389999</td>\n",
              "      <td>138.940002</td>\n",
              "      <td>137.960007</td>\n",
              "      <td>136.880005</td>\n",
              "      <td>137.130005</td>\n",
              "      <td>16.610001</td>\n",
              "      <td>16.549999</td>\n",
              "      <td>18.250000</td>\n",
              "      <td>17.309999</td>\n",
              "      <td>17.480000</td>\n",
              "      <td>16.889999</td>\n",
              "      <td>16.620001</td>\n",
              "      <td>15.850000</td>\n",
              "    </tr>\n",
              "    <tr>\n",
              "      <th>3</th>\n",
              "      <td>136.119995</td>\n",
              "      <td>139.389999</td>\n",
              "      <td>138.940002</td>\n",
              "      <td>137.960007</td>\n",
              "      <td>136.880005</td>\n",
              "      <td>137.130005</td>\n",
              "      <td>135.929993</td>\n",
              "      <td>16.549999</td>\n",
              "      <td>18.250000</td>\n",
              "      <td>17.309999</td>\n",
              "      <td>17.480000</td>\n",
              "      <td>16.889999</td>\n",
              "      <td>16.620001</td>\n",
              "      <td>15.850000</td>\n",
              "      <td>16.459999</td>\n",
              "    </tr>\n",
              "    <tr>\n",
              "      <th>4</th>\n",
              "      <td>139.389999</td>\n",
              "      <td>138.940002</td>\n",
              "      <td>137.960007</td>\n",
              "      <td>136.880005</td>\n",
              "      <td>137.130005</td>\n",
              "      <td>135.929993</td>\n",
              "      <td>135.020004</td>\n",
              "      <td>18.250000</td>\n",
              "      <td>17.309999</td>\n",
              "      <td>17.480000</td>\n",
              "      <td>16.889999</td>\n",
              "      <td>16.620001</td>\n",
              "      <td>15.850000</td>\n",
              "      <td>16.459999</td>\n",
              "      <td>16.000000</td>\n",
              "    </tr>\n",
              "  </tbody>\n",
              "</table>\n",
              "</div>\n",
              "    <div class=\"colab-df-buttons\">\n",
              "\n",
              "  <div class=\"colab-df-container\">\n",
              "    <button class=\"colab-df-convert\" onclick=\"convertToInteractive('df-4ed01d9f-d9af-4e67-8641-6f9db4e7e98f')\"\n",
              "            title=\"Convert this dataframe to an interactive table.\"\n",
              "            style=\"display:none;\">\n",
              "\n",
              "  <svg xmlns=\"http://www.w3.org/2000/svg\" height=\"24px\" viewBox=\"0 -960 960 960\">\n",
              "    <path d=\"M120-120v-720h720v720H120Zm60-500h600v-160H180v160Zm220 220h160v-160H400v160Zm0 220h160v-160H400v160ZM180-400h160v-160H180v160Zm440 0h160v-160H620v160ZM180-180h160v-160H180v160Zm440 0h160v-160H620v160Z\"/>\n",
              "  </svg>\n",
              "    </button>\n",
              "\n",
              "  <style>\n",
              "    .colab-df-container {\n",
              "      display:flex;\n",
              "      gap: 12px;\n",
              "    }\n",
              "\n",
              "    .colab-df-convert {\n",
              "      background-color: #E8F0FE;\n",
              "      border: none;\n",
              "      border-radius: 50%;\n",
              "      cursor: pointer;\n",
              "      display: none;\n",
              "      fill: #1967D2;\n",
              "      height: 32px;\n",
              "      padding: 0 0 0 0;\n",
              "      width: 32px;\n",
              "    }\n",
              "\n",
              "    .colab-df-convert:hover {\n",
              "      background-color: #E2EBFA;\n",
              "      box-shadow: 0px 1px 2px rgba(60, 64, 67, 0.3), 0px 1px 3px 1px rgba(60, 64, 67, 0.15);\n",
              "      fill: #174EA6;\n",
              "    }\n",
              "\n",
              "    .colab-df-buttons div {\n",
              "      margin-bottom: 4px;\n",
              "    }\n",
              "\n",
              "    [theme=dark] .colab-df-convert {\n",
              "      background-color: #3B4455;\n",
              "      fill: #D2E3FC;\n",
              "    }\n",
              "\n",
              "    [theme=dark] .colab-df-convert:hover {\n",
              "      background-color: #434B5C;\n",
              "      box-shadow: 0px 1px 3px 1px rgba(0, 0, 0, 0.15);\n",
              "      filter: drop-shadow(0px 1px 2px rgba(0, 0, 0, 0.3));\n",
              "      fill: #FFFFFF;\n",
              "    }\n",
              "  </style>\n",
              "\n",
              "    <script>\n",
              "      const buttonEl =\n",
              "        document.querySelector('#df-4ed01d9f-d9af-4e67-8641-6f9db4e7e98f button.colab-df-convert');\n",
              "      buttonEl.style.display =\n",
              "        google.colab.kernel.accessAllowed ? 'block' : 'none';\n",
              "\n",
              "      async function convertToInteractive(key) {\n",
              "        const element = document.querySelector('#df-4ed01d9f-d9af-4e67-8641-6f9db4e7e98f');\n",
              "        const dataTable =\n",
              "          await google.colab.kernel.invokeFunction('convertToInteractive',\n",
              "                                                    [key], {});\n",
              "        if (!dataTable) return;\n",
              "\n",
              "        const docLinkHtml = 'Like what you see? Visit the ' +\n",
              "          '<a target=\"_blank\" href=https://colab.research.google.com/notebooks/data_table.ipynb>data table notebook</a>'\n",
              "          + ' to learn more about interactive tables.';\n",
              "        element.innerHTML = '';\n",
              "        dataTable['output_type'] = 'display_data';\n",
              "        await google.colab.output.renderOutput(dataTable, element);\n",
              "        const docLink = document.createElement('div');\n",
              "        docLink.innerHTML = docLinkHtml;\n",
              "        element.appendChild(docLink);\n",
              "      }\n",
              "    </script>\n",
              "  </div>\n",
              "\n",
              "\n",
              "<div id=\"df-45eb1654-a052-4bba-9b40-47db107f580a\">\n",
              "  <button class=\"colab-df-quickchart\" onclick=\"quickchart('df-45eb1654-a052-4bba-9b40-47db107f580a')\"\n",
              "            title=\"Suggest charts\"\n",
              "            style=\"display:none;\">\n",
              "\n",
              "<svg xmlns=\"http://www.w3.org/2000/svg\" height=\"24px\"viewBox=\"0 0 24 24\"\n",
              "     width=\"24px\">\n",
              "    <g>\n",
              "        <path d=\"M19 3H5c-1.1 0-2 .9-2 2v14c0 1.1.9 2 2 2h14c1.1 0 2-.9 2-2V5c0-1.1-.9-2-2-2zM9 17H7v-7h2v7zm4 0h-2V7h2v10zm4 0h-2v-4h2v4z\"/>\n",
              "    </g>\n",
              "</svg>\n",
              "  </button>\n",
              "\n",
              "<style>\n",
              "  .colab-df-quickchart {\n",
              "      --bg-color: #E8F0FE;\n",
              "      --fill-color: #1967D2;\n",
              "      --hover-bg-color: #E2EBFA;\n",
              "      --hover-fill-color: #174EA6;\n",
              "      --disabled-fill-color: #AAA;\n",
              "      --disabled-bg-color: #DDD;\n",
              "  }\n",
              "\n",
              "  [theme=dark] .colab-df-quickchart {\n",
              "      --bg-color: #3B4455;\n",
              "      --fill-color: #D2E3FC;\n",
              "      --hover-bg-color: #434B5C;\n",
              "      --hover-fill-color: #FFFFFF;\n",
              "      --disabled-bg-color: #3B4455;\n",
              "      --disabled-fill-color: #666;\n",
              "  }\n",
              "\n",
              "  .colab-df-quickchart {\n",
              "    background-color: var(--bg-color);\n",
              "    border: none;\n",
              "    border-radius: 50%;\n",
              "    cursor: pointer;\n",
              "    display: none;\n",
              "    fill: var(--fill-color);\n",
              "    height: 32px;\n",
              "    padding: 0;\n",
              "    width: 32px;\n",
              "  }\n",
              "\n",
              "  .colab-df-quickchart:hover {\n",
              "    background-color: var(--hover-bg-color);\n",
              "    box-shadow: 0 1px 2px rgba(60, 64, 67, 0.3), 0 1px 3px 1px rgba(60, 64, 67, 0.15);\n",
              "    fill: var(--button-hover-fill-color);\n",
              "  }\n",
              "\n",
              "  .colab-df-quickchart-complete:disabled,\n",
              "  .colab-df-quickchart-complete:disabled:hover {\n",
              "    background-color: var(--disabled-bg-color);\n",
              "    fill: var(--disabled-fill-color);\n",
              "    box-shadow: none;\n",
              "  }\n",
              "\n",
              "  .colab-df-spinner {\n",
              "    border: 2px solid var(--fill-color);\n",
              "    border-color: transparent;\n",
              "    border-bottom-color: var(--fill-color);\n",
              "    animation:\n",
              "      spin 1s steps(1) infinite;\n",
              "  }\n",
              "\n",
              "  @keyframes spin {\n",
              "    0% {\n",
              "      border-color: transparent;\n",
              "      border-bottom-color: var(--fill-color);\n",
              "      border-left-color: var(--fill-color);\n",
              "    }\n",
              "    20% {\n",
              "      border-color: transparent;\n",
              "      border-left-color: var(--fill-color);\n",
              "      border-top-color: var(--fill-color);\n",
              "    }\n",
              "    30% {\n",
              "      border-color: transparent;\n",
              "      border-left-color: var(--fill-color);\n",
              "      border-top-color: var(--fill-color);\n",
              "      border-right-color: var(--fill-color);\n",
              "    }\n",
              "    40% {\n",
              "      border-color: transparent;\n",
              "      border-right-color: var(--fill-color);\n",
              "      border-top-color: var(--fill-color);\n",
              "    }\n",
              "    60% {\n",
              "      border-color: transparent;\n",
              "      border-right-color: var(--fill-color);\n",
              "    }\n",
              "    80% {\n",
              "      border-color: transparent;\n",
              "      border-right-color: var(--fill-color);\n",
              "      border-bottom-color: var(--fill-color);\n",
              "    }\n",
              "    90% {\n",
              "      border-color: transparent;\n",
              "      border-bottom-color: var(--fill-color);\n",
              "    }\n",
              "  }\n",
              "</style>\n",
              "\n",
              "  <script>\n",
              "    async function quickchart(key) {\n",
              "      const quickchartButtonEl =\n",
              "        document.querySelector('#' + key + ' button');\n",
              "      quickchartButtonEl.disabled = true;  // To prevent multiple clicks.\n",
              "      quickchartButtonEl.classList.add('colab-df-spinner');\n",
              "      try {\n",
              "        const charts = await google.colab.kernel.invokeFunction(\n",
              "            'suggestCharts', [key], {});\n",
              "      } catch (error) {\n",
              "        console.error('Error during call to suggestCharts:', error);\n",
              "      }\n",
              "      quickchartButtonEl.classList.remove('colab-df-spinner');\n",
              "      quickchartButtonEl.classList.add('colab-df-quickchart-complete');\n",
              "    }\n",
              "    (() => {\n",
              "      let quickchartButtonEl =\n",
              "        document.querySelector('#df-45eb1654-a052-4bba-9b40-47db107f580a button');\n",
              "      quickchartButtonEl.style.display =\n",
              "        google.colab.kernel.accessAllowed ? 'block' : 'none';\n",
              "    })();\n",
              "  </script>\n",
              "</div>\n",
              "\n",
              "    </div>\n",
              "  </div>\n"
            ],
            "application/vnd.google.colaboratory.intrinsic+json": {
              "type": "dataframe",
              "variable_name": "df",
              "summary": "{\n  \"name\": \"df\",\n  \"rows\": 192,\n  \"fields\": [\n    {\n      \"column\": \"wind_t-7\",\n      \"properties\": {\n        \"dtype\": \"number\",\n        \"std\": 5.762274590703576,\n        \"min\": 124.63999938964844,\n        \"max\": 149.47000122070312,\n        \"num_unique_values\": 179,\n        \"samples\": [\n          130.64999389648438,\n          135.69000244140625,\n          127.83999633789062\n        ],\n        \"semantic_type\": \"\",\n        \"description\": \"\"\n      }\n    },\n    {\n      \"column\": \"wind_t-6\",\n      \"properties\": {\n        \"dtype\": \"number\",\n        \"std\": 5.768590612390004,\n        \"min\": 124.63999938964844,\n        \"max\": 149.47000122070312,\n        \"num_unique_values\": 178,\n        \"samples\": [\n          134.3800048828125,\n          138.0399932861328,\n          141.55999755859375\n        ],\n        \"semantic_type\": \"\",\n        \"description\": \"\"\n      }\n    },\n    {\n      \"column\": \"wind_t-5\",\n      \"properties\": {\n        \"dtype\": \"number\",\n        \"std\": 5.775000844024707,\n        \"min\": 124.63999938964844,\n        \"max\": 149.47000122070312,\n        \"num_unique_values\": 179,\n        \"samples\": [\n          132.9600067138672,\n          137.49000549316406,\n          126.97000122070312\n        ],\n        \"semantic_type\": \"\",\n        \"description\": \"\"\n      }\n    },\n    {\n      \"column\": \"wind_t-4\",\n      \"properties\": {\n        \"dtype\": \"number\",\n        \"std\": 5.782992242966174,\n        \"min\": 124.63999938964844,\n        \"max\": 149.47000122070312,\n        \"num_unique_values\": 180,\n        \"samples\": [\n          134.60000610351562,\n          138.64999389648438,\n          148.1699981689453\n        ],\n        \"semantic_type\": \"\",\n        \"description\": \"\"\n      }\n    },\n    {\n      \"column\": \"wind_t-3\",\n      \"properties\": {\n        \"dtype\": \"number\",\n        \"std\": 5.790001092516205,\n        \"min\": 124.63999938964844,\n        \"max\": 149.47000122070312,\n        \"num_unique_values\": 180,\n        \"samples\": [\n          134.85000610351562,\n          138.6999969482422,\n          145.66000366210938\n        ],\n        \"semantic_type\": \"\",\n        \"description\": \"\"\n      }\n    },\n    {\n      \"column\": \"wind_t-2\",\n      \"properties\": {\n        \"dtype\": \"number\",\n        \"std\": 5.811950058203189,\n        \"min\": 124.63999938964844,\n        \"max\": 149.47000122070312,\n        \"num_unique_values\": 180,\n        \"samples\": [\n          136.13999938964844,\n          138.0399932861328,\n          145.5\n        ],\n        \"semantic_type\": \"\",\n        \"description\": \"\"\n      }\n    },\n    {\n      \"column\": \"wind_t-1\",\n      \"properties\": {\n        \"dtype\": \"number\",\n        \"std\": 5.834615264865155,\n        \"min\": 124.63999938964844,\n        \"max\": 149.47000122070312,\n        \"num_unique_values\": 180,\n        \"samples\": [\n          133.72000122070312,\n          138.25999450683594,\n          144.7899932861328\n        ],\n        \"semantic_type\": \"\",\n        \"description\": \"\"\n      }\n    },\n    {\n      \"column\": \"t-7\",\n      \"properties\": {\n        \"dtype\": \"number\",\n        \"std\": 1.6794780563653338,\n        \"min\": 14.380000114440918,\n        \"max\": 23.420000076293945,\n        \"num_unique_values\": 152,\n        \"samples\": [\n          17.489999771118164,\n          17.170000076293945,\n          14.380000114440918\n        ],\n        \"semantic_type\": \"\",\n        \"description\": \"\"\n      }\n    },\n    {\n      \"column\": \"t-6\",\n      \"properties\": {\n        \"dtype\": \"number\",\n        \"std\": 1.6834770918199895,\n        \"min\": 14.380000114440918,\n        \"max\": 23.420000076293945,\n        \"num_unique_values\": 153,\n        \"samples\": [\n          17.969999313354492,\n          17.030000686645508,\n          14.890000343322754\n        ],\n        \"semantic_type\": \"\",\n        \"description\": \"\"\n      }\n    },\n    {\n      \"column\": \"t-5\",\n      \"properties\": {\n        \"dtype\": \"number\",\n        \"std\": 1.6854403845955626,\n        \"min\": 14.380000114440918,\n        \"max\": 23.420000076293945,\n        \"num_unique_values\": 152,\n        \"samples\": [\n          17.40999984741211,\n          17.049999237060547,\n          14.890000343322754\n        ],\n        \"semantic_type\": \"\",\n        \"description\": \"\"\n      }\n    },\n    {\n      \"column\": \"t-4\",\n      \"properties\": {\n        \"dtype\": \"number\",\n        \"std\": 1.6860719630008774,\n        \"min\": 14.380000114440918,\n        \"max\": 23.420000076293945,\n        \"num_unique_values\": 151,\n        \"samples\": [\n          16.989999771118164,\n          16.18000030517578,\n          17.969999313354492\n        ],\n        \"semantic_type\": \"\",\n        \"description\": \"\"\n      }\n    },\n    {\n      \"column\": \"t-3\",\n      \"properties\": {\n        \"dtype\": \"number\",\n        \"std\": 1.6854658833424907,\n        \"min\": 14.380000114440918,\n        \"max\": 23.420000076293945,\n        \"num_unique_values\": 151,\n        \"samples\": [\n          16.579999923706055,\n          16.049999237060547,\n          17.510000228881836\n        ],\n        \"semantic_type\": \"\",\n        \"description\": \"\"\n      }\n    },\n    {\n      \"column\": \"t-2\",\n      \"properties\": {\n        \"dtype\": \"number\",\n        \"std\": 1.6839722769487122,\n        \"min\": 14.380000114440918,\n        \"max\": 23.420000076293945,\n        \"num_unique_values\": 150,\n        \"samples\": [\n          16.700000762939453,\n          15.3100004196167,\n          15.529999732971191\n        ],\n        \"semantic_type\": \"\",\n        \"description\": \"\"\n      }\n    },\n    {\n      \"column\": \"t-1\",\n      \"properties\": {\n        \"dtype\": \"number\",\n        \"std\": 1.6840906170314427,\n        \"min\": 14.380000114440918,\n        \"max\": 23.420000076293945,\n        \"num_unique_values\": 150,\n        \"samples\": [\n          16.989999771118164,\n          15.670000076293945,\n          15.34000015258789\n        ],\n        \"semantic_type\": \"\",\n        \"description\": \"\"\n      }\n    },\n    {\n      \"column\": \"t\",\n      \"properties\": {\n        \"dtype\": \"number\",\n        \"std\": 1.6872679240064097,\n        \"min\": 14.380000114440918,\n        \"max\": 23.420000076293945,\n        \"num_unique_values\": 151,\n        \"samples\": [\n          18.920000076293945,\n          16.059999465942383,\n          16.639999389648438\n        ],\n        \"semantic_type\": \"\",\n        \"description\": \"\"\n      }\n    }\n  ]\n}"
            }
          },
          "metadata": {},
          "execution_count": 80
        }
      ]
    },
    {
      "cell_type": "code",
      "source": [
        "X = df.drop(columns='t')\n",
        "y = df[['t']]\n",
        "\n",
        "X_train, y_train, X_test, y_test = split_train_test(X, y, test_perc=0.2)"
      ],
      "metadata": {
        "id": "0jqQDb6S6Cb8"
      },
      "execution_count": null,
      "outputs": []
    },
    {
      "cell_type": "code",
      "source": [
        "from sklearn.neural_network import MLPRegressor\n",
        "\n",
        "reg = MLPRegressor(hidden_layer_sizes=(8,16,8), random_state=1, max_iter=2000)\n",
        "reg.fit(X_train,y_train.values.reshape(-1))\n",
        "\n",
        "y_pred = reg.predict(X)"
      ],
      "metadata": {
        "id": "w0fiejdt6MwX"
      },
      "execution_count": null,
      "outputs": []
    },
    {
      "cell_type": "markdown",
      "source": [
        "#5_"
      ],
      "metadata": {
        "id": "y6DhBJim-yMm"
      }
    },
    {
      "cell_type": "code",
      "source": [
        "plot_forecast(y, y_pred, X_train, title='AVIR predict - Multivariate MLP (2 Time Series Inputs)')\n",
        "\n",
        "cur_metrics = forecast_accuracy(y_pred[len(y_train):], y[len(y_train):].values.reshape(-1))\n",
        "dict_metrics['MLPRegressor with 2 input series'] = cur_metrics"
      ],
      "metadata": {
        "id": "GnG328q46MwY",
        "colab": {
          "base_uri": "https://localhost:8080/",
          "height": 560
        },
        "outputId": "526fb9db-9b8a-404e-ab66-9ea3a87ad03b"
      },
      "execution_count": null,
      "outputs": [
        {
          "output_type": "display_data",
          "data": {
            "text/plain": [
              "<Figure size 700x400 with 1 Axes>"
            ],
            "image/png": "[encoded data removed]"
          },
          "metadata": {}
        },
        {
          "output_type": "stream",
          "name": "stdout",
          "text": [
            "MSE: \t 31.15\n",
            "MAPE: \t 0.31\n",
            "ME: \t 5.44\n",
            "MAE: \t 5.44\n",
            "MPE: \t 0.31\n",
            "RMSE: \t 5.58\n",
            "ACF1: \t 0.73\n",
            "CORR: \t -0.05\n"
          ]
        }
      ]
    },
    {
      "cell_type": "code",
      "source": [
        "print('Mean Absolute Error')\n",
        "print()\n",
        "\n",
        "for key, item in dict_metrics.items():\n",
        "  print(f\"{key} MAE: {item['MAE']:.2f}\")"
      ],
      "metadata": {
        "id": "I62KbGXI6ogU",
        "colab": {
          "base_uri": "https://localhost:8080/"
        },
        "outputId": "a118aab2-a77d-40c7-e4dc-348374584aef"
      },
      "execution_count": null,
      "outputs": [
        {
          "output_type": "stream",
          "name": "stdout",
          "text": [
            "Mean Absolute Error\n",
            "\n",
            "ARIMA Model MAE: 0.36\n",
            "DecisionTreeRegressor MAE: 0.88\n",
            "GradientBoostingRegressor MAE: 0.55\n",
            "MLPRegressor MAE: 0.36\n",
            "MLPRegressor with 2 input series MAE: 5.44\n"
          ]
        }
      ]
    },
    {
      "cell_type": "markdown",
      "source": [
        "#6"
      ],
      "metadata": {
        "id": "b7M565jH-8XW"
      }
    },
    {
      "cell_type": "markdown",
      "source": [
        "Nosso resultado agora é até mesmo melhor que o modelo unidimensional ARIMA e você pode ver que pudemos adaptar o modelo com o mínimo de esforço."
      ],
      "metadata": {
        "id": "9q66lh6nV6Hj"
      }
    },
    {
      "cell_type": "markdown",
      "source": [
        "#### Deep Learning\n",
        "\n",
        "Séries Multivariadas e janelas de ciclo de tempo muito longas podem levar à necessidade de construirmos conjuntos de dados de muitas dimensões para podermos aplicar modelos de ML. Tratar grandes volumes de dados com alta dimensionalidade exige capacidade de processamento e otimizações de código que você encontra normalmente em Frameworks de redes profundas como o `PyTorch` (Meta) ou o `TensorFlow`(Google), ou mesmo no pacote de Séries Temporais da Meta, o `NeuralProphet`.\n",
        "\n",
        "A construção detalhada desses modelos de Deep Learning e o uso desses Frameworks estão bem além do que caberia nesta introdução, mas dada a importância e o uso cada vez maior desses modelos, cabe ao menos criarmos um modelo simples, seguindo a nossa filosofia de criar uma porta de entrada à você para modelos mais sofisticados, mas sem entrar em detalhes da codificação que você poderá buscar mais adiante em outras referências.\n",
        "\n",
        "Vamos empregar aqui o Framework `PyTorch`, sendo um dos mais empregados e bem-sucedidos Frameworks de redes profundas. Redes profundas normalmente são associadas a um grande número de camadas e  elementos. Na verdade, não é exatamente assim e podemos encontrar redes Deep Learning que tenham mesmo um número pequeno de elementos e camadas (para os padrões de centenas e milhares que em geral encontramos). Uma das possibilidades que torna o uso de redes neurais profundas particularmente interessantes para a predição de Séries Temporais é que podemos implementar arquiteturas recorrentes em que a saída da rede realimenta a rede, podendo-se definir ainda a profundidade dessa realimentação. Você deve notar a semelhança disso com o próprio conceito de Séries Temporais.\n",
        "\n",
        "No modelo a seguir empregaremos uma arquitetura **LSTM**, ou **Long Short-Term Memory**, que é uma arquitetura de rede neural recorrente artificial capaz de processar sequências inteiras de dados. Vamos fazer aqui uma predição empregando unicamente a Série de Dados de demanda de bicicletas. O código apresenta uma série de desafios técnicos para o iniciante e sugiro você seguir, em um primeiro momento, apenas os comentários do que cada parte está construindo.\n",
        "\n"
      ],
      "metadata": {
        "id": "EqsqRmvPTeOK"
      }
    },
    {
      "cell_type": "markdown",
      "source": [
        "###### Imports"
      ],
      "metadata": {
        "id": "JkMZ7858aTjZ"
      }
    },
    {
      "cell_type": "code",
      "source": [
        "import torch\n",
        "import torch.nn as nn\n",
        "from torch.autograd import Variable"
      ],
      "metadata": {
        "id": "nPoo8AWyTx1v"
      },
      "execution_count": null,
      "outputs": []
    },
    {
      "cell_type": "markdown",
      "source": [
        "###### Preparação dos Dados\n",
        "\n",
        "Os dados serão organizados do mesmo modo que empregamos antes, embora existam, no caso das redes LSTM outras formas mais eficientes de empregarmos."
      ],
      "metadata": {
        "id": "TVg5JyW1abiS"
      }
    },
    {
      "cell_type": "code",
      "source": [
        "df = ml_timeseries_df(bikes[['cnt']], n_lags=7)\n",
        "df.head(7)"
      ],
      "metadata": {
        "id": "zo0_TPIJUKFC",
        "colab": {
          "base_uri": "https://localhost:8080/",
          "height": 269
        },
        "outputId": "7e1eea64-fcf0-4574-fd04-dbd8b2a46ee0"
      },
      "execution_count": null,
      "outputs": [
        {
          "output_type": "execute_result",
          "data": {
            "text/plain": [
              "         t-7        t-6        t-5        t-4        t-3        t-2  \\\n",
              "0  17.040001  16.219999  16.610001  16.549999  18.250000  17.309999   \n",
              "1  16.219999  16.610001  16.549999  18.250000  17.309999  17.480000   \n",
              "2  16.610001  16.549999  18.250000  17.309999  17.480000  16.889999   \n",
              "3  16.549999  18.250000  17.309999  17.480000  16.889999  16.620001   \n",
              "4  18.250000  17.309999  17.480000  16.889999  16.620001  15.850000   \n",
              "5  17.309999  17.480000  16.889999  16.620001  15.850000  16.459999   \n",
              "6  17.480000  16.889999  16.620001  15.850000  16.459999  16.000000   \n",
              "\n",
              "         t-1          t  \n",
              "0  17.480000  16.889999  \n",
              "1  16.889999  16.620001  \n",
              "2  16.620001  15.850000  \n",
              "3  15.850000  16.459999  \n",
              "4  16.459999  16.000000  \n",
              "5  16.000000  16.450001  \n",
              "6  16.450001  17.209999  "
            ],
            "text/html": [
              "\n",
              "  <div id=\"df-dc1a6953-a720-4849-b6ab-e11fed0dee4f\" class=\"colab-df-container\">\n",
              "    <div>\n",
              "<style scoped>\n",
              "    .dataframe tbody tr th:only-of-type {\n",
              "        vertical-align: middle;\n",
              "    }\n",
              "\n",
              "    .dataframe tbody tr th {\n",
              "        vertical-align: top;\n",
              "    }\n",
              "\n",
              "    .dataframe thead th {\n",
              "        text-align: right;\n",
              "    }\n",
              "</style>\n",
              "<table border=\"1\" class=\"dataframe\">\n",
              "  <thead>\n",
              "    <tr style=\"text-align: right;\">\n",
              "      <th></th>\n",
              "      <th>t-7</th>\n",
              "      <th>t-6</th>\n",
              "      <th>t-5</th>\n",
              "      <th>t-4</th>\n",
              "      <th>t-3</th>\n",
              "      <th>t-2</th>\n",
              "      <th>t-1</th>\n",
              "      <th>t</th>\n",
              "    </tr>\n",
              "  </thead>\n",
              "  <tbody>\n",
              "    <tr>\n",
              "      <th>0</th>\n",
              "      <td>17.040001</td>\n",
              "      <td>16.219999</td>\n",
              "      <td>16.610001</td>\n",
              "      <td>16.549999</td>\n",
              "      <td>18.250000</td>\n",
              "      <td>17.309999</td>\n",
              "      <td>17.480000</td>\n",
              "      <td>16.889999</td>\n",
              "    </tr>\n",
              "    <tr>\n",
              "      <th>1</th>\n",
              "      <td>16.219999</td>\n",
              "      <td>16.610001</td>\n",
              "      <td>16.549999</td>\n",
              "      <td>18.250000</td>\n",
              "      <td>17.309999</td>\n",
              "      <td>17.480000</td>\n",
              "      <td>16.889999</td>\n",
              "      <td>16.620001</td>\n",
              "    </tr>\n",
              "    <tr>\n",
              "      <th>2</th>\n",
              "      <td>16.610001</td>\n",
              "      <td>16.549999</td>\n",
              "      <td>18.250000</td>\n",
              "      <td>17.309999</td>\n",
              "      <td>17.480000</td>\n",
              "      <td>16.889999</td>\n",
              "      <td>16.620001</td>\n",
              "      <td>15.850000</td>\n",
              "    </tr>\n",
              "    <tr>\n",
              "      <th>3</th>\n",
              "      <td>16.549999</td>\n",
              "      <td>18.250000</td>\n",
              "      <td>17.309999</td>\n",
              "      <td>17.480000</td>\n",
              "      <td>16.889999</td>\n",
              "      <td>16.620001</td>\n",
              "      <td>15.850000</td>\n",
              "      <td>16.459999</td>\n",
              "    </tr>\n",
              "    <tr>\n",
              "      <th>4</th>\n",
              "      <td>18.250000</td>\n",
              "      <td>17.309999</td>\n",
              "      <td>17.480000</td>\n",
              "      <td>16.889999</td>\n",
              "      <td>16.620001</td>\n",
              "      <td>15.850000</td>\n",
              "      <td>16.459999</td>\n",
              "      <td>16.000000</td>\n",
              "    </tr>\n",
              "    <tr>\n",
              "      <th>5</th>\n",
              "      <td>17.309999</td>\n",
              "      <td>17.480000</td>\n",
              "      <td>16.889999</td>\n",
              "      <td>16.620001</td>\n",
              "      <td>15.850000</td>\n",
              "      <td>16.459999</td>\n",
              "      <td>16.000000</td>\n",
              "      <td>16.450001</td>\n",
              "    </tr>\n",
              "    <tr>\n",
              "      <th>6</th>\n",
              "      <td>17.480000</td>\n",
              "      <td>16.889999</td>\n",
              "      <td>16.620001</td>\n",
              "      <td>15.850000</td>\n",
              "      <td>16.459999</td>\n",
              "      <td>16.000000</td>\n",
              "      <td>16.450001</td>\n",
              "      <td>17.209999</td>\n",
              "    </tr>\n",
              "  </tbody>\n",
              "</table>\n",
              "</div>\n",
              "    <div class=\"colab-df-buttons\">\n",
              "\n",
              "  <div class=\"colab-df-container\">\n",
              "    <button class=\"colab-df-convert\" onclick=\"convertToInteractive('df-dc1a6953-a720-4849-b6ab-e11fed0dee4f')\"\n",
              "            title=\"Convert this dataframe to an interactive table.\"\n",
              "            style=\"display:none;\">\n",
              "\n",
              "  <svg xmlns=\"http://www.w3.org/2000/svg\" height=\"24px\" viewBox=\"0 -960 960 960\">\n",
              "    <path d=\"M120-120v-720h720v720H120Zm60-500h600v-160H180v160Zm220 220h160v-160H400v160Zm0 220h160v-160H400v160ZM180-400h160v-160H180v160Zm440 0h160v-160H620v160ZM180-180h160v-160H180v160Zm440 0h160v-160H620v160Z\"/>\n",
              "  </svg>\n",
              "    </button>\n",
              "\n",
              "  <style>\n",
              "    .colab-df-container {\n",
              "      display:flex;\n",
              "      gap: 12px;\n",
              "    }\n",
              "\n",
              "    .colab-df-convert {\n",
              "      background-color: #E8F0FE;\n",
              "      border: none;\n",
              "      border-radius: 50%;\n",
              "      cursor: pointer;\n",
              "      display: none;\n",
              "      fill: #1967D2;\n",
              "      height: 32px;\n",
              "      padding: 0 0 0 0;\n",
              "      width: 32px;\n",
              "    }\n",
              "\n",
              "    .colab-df-convert:hover {\n",
              "      background-color: #E2EBFA;\n",
              "      box-shadow: 0px 1px 2px rgba(60, 64, 67, 0.3), 0px 1px 3px 1px rgba(60, 64, 67, 0.15);\n",
              "      fill: #174EA6;\n",
              "    }\n",
              "\n",
              "    .colab-df-buttons div {\n",
              "      margin-bottom: 4px;\n",
              "    }\n",
              "\n",
              "    [theme=dark] .colab-df-convert {\n",
              "      background-color: #3B4455;\n",
              "      fill: #D2E3FC;\n",
              "    }\n",
              "\n",
              "    [theme=dark] .colab-df-convert:hover {\n",
              "      background-color: #434B5C;\n",
              "      box-shadow: 0px 1px 3px 1px rgba(0, 0, 0, 0.15);\n",
              "      filter: drop-shadow(0px 1px 2px rgba(0, 0, 0, 0.3));\n",
              "      fill: #FFFFFF;\n",
              "    }\n",
              "  </style>\n",
              "\n",
              "    <script>\n",
              "      const buttonEl =\n",
              "        document.querySelector('#df-dc1a6953-a720-4849-b6ab-e11fed0dee4f button.colab-df-convert');\n",
              "      buttonEl.style.display =\n",
              "        google.colab.kernel.accessAllowed ? 'block' : 'none';\n",
              "\n",
              "      async function convertToInteractive(key) {\n",
              "        const element = document.querySelector('#df-dc1a6953-a720-4849-b6ab-e11fed0dee4f');\n",
              "        const dataTable =\n",
              "          await google.colab.kernel.invokeFunction('convertToInteractive',\n",
              "                                                    [key], {});\n",
              "        if (!dataTable) return;\n",
              "\n",
              "        const docLinkHtml = 'Like what you see? Visit the ' +\n",
              "          '<a target=\"_blank\" href=https://colab.research.google.com/notebooks/data_table.ipynb>data table notebook</a>'\n",
              "          + ' to learn more about interactive tables.';\n",
              "        element.innerHTML = '';\n",
              "        dataTable['output_type'] = 'display_data';\n",
              "        await google.colab.output.renderOutput(dataTable, element);\n",
              "        const docLink = document.createElement('div');\n",
              "        docLink.innerHTML = docLinkHtml;\n",
              "        element.appendChild(docLink);\n",
              "      }\n",
              "    </script>\n",
              "  </div>\n",
              "\n",
              "\n",
              "<div id=\"df-f0c13bb3-f304-4d54-bc1e-65d2512c7e69\">\n",
              "  <button class=\"colab-df-quickchart\" onclick=\"quickchart('df-f0c13bb3-f304-4d54-bc1e-65d2512c7e69')\"\n",
              "            title=\"Suggest charts\"\n",
              "            style=\"display:none;\">\n",
              "\n",
              "<svg xmlns=\"http://www.w3.org/2000/svg\" height=\"24px\"viewBox=\"0 0 24 24\"\n",
              "     width=\"24px\">\n",
              "    <g>\n",
              "        <path d=\"M19 3H5c-1.1 0-2 .9-2 2v14c0 1.1.9 2 2 2h14c1.1 0 2-.9 2-2V5c0-1.1-.9-2-2-2zM9 17H7v-7h2v7zm4 0h-2V7h2v10zm4 0h-2v-4h2v4z\"/>\n",
              "    </g>\n",
              "</svg>\n",
              "  </button>\n",
              "\n",
              "<style>\n",
              "  .colab-df-quickchart {\n",
              "      --bg-color: #E8F0FE;\n",
              "      --fill-color: #1967D2;\n",
              "      --hover-bg-color: #E2EBFA;\n",
              "      --hover-fill-color: #174EA6;\n",
              "      --disabled-fill-color: #AAA;\n",
              "      --disabled-bg-color: #DDD;\n",
              "  }\n",
              "\n",
              "  [theme=dark] .colab-df-quickchart {\n",
              "      --bg-color: #3B4455;\n",
              "      --fill-color: #D2E3FC;\n",
              "      --hover-bg-color: #434B5C;\n",
              "      --hover-fill-color: #FFFFFF;\n",
              "      --disabled-bg-color: #3B4455;\n",
              "      --disabled-fill-color: #666;\n",
              "  }\n",
              "\n",
              "  .colab-df-quickchart {\n",
              "    background-color: var(--bg-color);\n",
              "    border: none;\n",
              "    border-radius: 50%;\n",
              "    cursor: pointer;\n",
              "    display: none;\n",
              "    fill: var(--fill-color);\n",
              "    height: 32px;\n",
              "    padding: 0;\n",
              "    width: 32px;\n",
              "  }\n",
              "\n",
              "  .colab-df-quickchart:hover {\n",
              "    background-color: var(--hover-bg-color);\n",
              "    box-shadow: 0 1px 2px rgba(60, 64, 67, 0.3), 0 1px 3px 1px rgba(60, 64, 67, 0.15);\n",
              "    fill: var(--button-hover-fill-color);\n",
              "  }\n",
              "\n",
              "  .colab-df-quickchart-complete:disabled,\n",
              "  .colab-df-quickchart-complete:disabled:hover {\n",
              "    background-color: var(--disabled-bg-color);\n",
              "    fill: var(--disabled-fill-color);\n",
              "    box-shadow: none;\n",
              "  }\n",
              "\n",
              "  .colab-df-spinner {\n",
              "    border: 2px solid var(--fill-color);\n",
              "    border-color: transparent;\n",
              "    border-bottom-color: var(--fill-color);\n",
              "    animation:\n",
              "      spin 1s steps(1) infinite;\n",
              "  }\n",
              "\n",
              "  @keyframes spin {\n",
              "    0% {\n",
              "      border-color: transparent;\n",
              "      border-bottom-color: var(--fill-color);\n",
              "      border-left-color: var(--fill-color);\n",
              "    }\n",
              "    20% {\n",
              "      border-color: transparent;\n",
              "      border-left-color: var(--fill-color);\n",
              "      border-top-color: var(--fill-color);\n",
              "    }\n",
              "    30% {\n",
              "      border-color: transparent;\n",
              "      border-left-color: var(--fill-color);\n",
              "      border-top-color: var(--fill-color);\n",
              "      border-right-color: var(--fill-color);\n",
              "    }\n",
              "    40% {\n",
              "      border-color: transparent;\n",
              "      border-right-color: var(--fill-color);\n",
              "      border-top-color: var(--fill-color);\n",
              "    }\n",
              "    60% {\n",
              "      border-color: transparent;\n",
              "      border-right-color: var(--fill-color);\n",
              "    }\n",
              "    80% {\n",
              "      border-color: transparent;\n",
              "      border-right-color: var(--fill-color);\n",
              "      border-bottom-color: var(--fill-color);\n",
              "    }\n",
              "    90% {\n",
              "      border-color: transparent;\n",
              "      border-bottom-color: var(--fill-color);\n",
              "    }\n",
              "  }\n",
              "</style>\n",
              "\n",
              "  <script>\n",
              "    async function quickchart(key) {\n",
              "      const quickchartButtonEl =\n",
              "        document.querySelector('#' + key + ' button');\n",
              "      quickchartButtonEl.disabled = true;  // To prevent multiple clicks.\n",
              "      quickchartButtonEl.classList.add('colab-df-spinner');\n",
              "      try {\n",
              "        const charts = await google.colab.kernel.invokeFunction(\n",
              "            'suggestCharts', [key], {});\n",
              "      } catch (error) {\n",
              "        console.error('Error during call to suggestCharts:', error);\n",
              "      }\n",
              "      quickchartButtonEl.classList.remove('colab-df-spinner');\n",
              "      quickchartButtonEl.classList.add('colab-df-quickchart-complete');\n",
              "    }\n",
              "    (() => {\n",
              "      let quickchartButtonEl =\n",
              "        document.querySelector('#df-f0c13bb3-f304-4d54-bc1e-65d2512c7e69 button');\n",
              "      quickchartButtonEl.style.display =\n",
              "        google.colab.kernel.accessAllowed ? 'block' : 'none';\n",
              "    })();\n",
              "  </script>\n",
              "</div>\n",
              "\n",
              "    </div>\n",
              "  </div>\n"
            ],
            "application/vnd.google.colaboratory.intrinsic+json": {
              "type": "dataframe",
              "variable_name": "df",
              "summary": "{\n  \"name\": \"df\",\n  \"rows\": 192,\n  \"fields\": [\n    {\n      \"column\": \"t-7\",\n      \"properties\": {\n        \"dtype\": \"number\",\n        \"std\": 1.6794780563653338,\n        \"min\": 14.380000114440918,\n        \"max\": 23.420000076293945,\n        \"num_unique_values\": 152,\n        \"samples\": [\n          17.489999771118164,\n          17.170000076293945,\n          14.380000114440918\n        ],\n        \"semantic_type\": \"\",\n        \"description\": \"\"\n      }\n    },\n    {\n      \"column\": \"t-6\",\n      \"properties\": {\n        \"dtype\": \"number\",\n        \"std\": 1.6834770918199895,\n        \"min\": 14.380000114440918,\n        \"max\": 23.420000076293945,\n        \"num_unique_values\": 153,\n        \"samples\": [\n          17.969999313354492,\n          17.030000686645508,\n          14.890000343322754\n        ],\n        \"semantic_type\": \"\",\n        \"description\": \"\"\n      }\n    },\n    {\n      \"column\": \"t-5\",\n      \"properties\": {\n        \"dtype\": \"number\",\n        \"std\": 1.6854403845955626,\n        \"min\": 14.380000114440918,\n        \"max\": 23.420000076293945,\n        \"num_unique_values\": 152,\n        \"samples\": [\n          17.40999984741211,\n          17.049999237060547,\n          14.890000343322754\n        ],\n        \"semantic_type\": \"\",\n        \"description\": \"\"\n      }\n    },\n    {\n      \"column\": \"t-4\",\n      \"properties\": {\n        \"dtype\": \"number\",\n        \"std\": 1.6860719630008774,\n        \"min\": 14.380000114440918,\n        \"max\": 23.420000076293945,\n        \"num_unique_values\": 151,\n        \"samples\": [\n          16.989999771118164,\n          16.18000030517578,\n          17.969999313354492\n        ],\n        \"semantic_type\": \"\",\n        \"description\": \"\"\n      }\n    },\n    {\n      \"column\": \"t-3\",\n      \"properties\": {\n        \"dtype\": \"number\",\n        \"std\": 1.6854658833424907,\n        \"min\": 14.380000114440918,\n        \"max\": 23.420000076293945,\n        \"num_unique_values\": 151,\n        \"samples\": [\n          16.579999923706055,\n          16.049999237060547,\n          17.510000228881836\n        ],\n        \"semantic_type\": \"\",\n        \"description\": \"\"\n      }\n    },\n    {\n      \"column\": \"t-2\",\n      \"properties\": {\n        \"dtype\": \"number\",\n        \"std\": 1.6839722769487122,\n        \"min\": 14.380000114440918,\n        \"max\": 23.420000076293945,\n        \"num_unique_values\": 150,\n        \"samples\": [\n          16.700000762939453,\n          15.3100004196167,\n          15.529999732971191\n        ],\n        \"semantic_type\": \"\",\n        \"description\": \"\"\n      }\n    },\n    {\n      \"column\": \"t-1\",\n      \"properties\": {\n        \"dtype\": \"number\",\n        \"std\": 1.6840906170314427,\n        \"min\": 14.380000114440918,\n        \"max\": 23.420000076293945,\n        \"num_unique_values\": 150,\n        \"samples\": [\n          16.989999771118164,\n          15.670000076293945,\n          15.34000015258789\n        ],\n        \"semantic_type\": \"\",\n        \"description\": \"\"\n      }\n    },\n    {\n      \"column\": \"t\",\n      \"properties\": {\n        \"dtype\": \"number\",\n        \"std\": 1.6872679240064097,\n        \"min\": 14.380000114440918,\n        \"max\": 23.420000076293945,\n        \"num_unique_values\": 151,\n        \"samples\": [\n          18.920000076293945,\n          16.059999465942383,\n          16.639999389648438\n        ],\n        \"semantic_type\": \"\",\n        \"description\": \"\"\n      }\n    }\n  ]\n}"
            }
          },
          "metadata": {},
          "execution_count": 86
        }
      ]
    },
    {
      "cell_type": "markdown",
      "source": [
        "Modelos de Deep Learning empregam os dados no formato de **Tensores** que são arrays multidimensionais bastante semelhantes aos empregados no `NumPy` mas que possuem algoritmos mais eficientes para o processamento além de acesso a recursos de GPU. Nesses modelos dos dados de entrada e saída são em geral normalizados."
      ],
      "metadata": {
        "id": "_JV8Phttask5"
      }
    },
    {
      "cell_type": "code",
      "source": [
        "min = df.min().min()\n",
        "max = df.max().max()"
      ],
      "metadata": {
        "id": "oYRlt984cu0h"
      },
      "execution_count": null,
      "outputs": []
    },
    {
      "cell_type": "code",
      "source": [
        "for c in df:\n",
        "  df[c] = ( df[c] - min ) / ( max - min )"
      ],
      "metadata": {
        "id": "WRnnlM72acqy"
      },
      "execution_count": null,
      "outputs": []
    },
    {
      "cell_type": "markdown",
      "source": [
        "Dados normalizados:"
      ],
      "metadata": {
        "id": "yeK4TjdabcrJ"
      }
    },
    {
      "cell_type": "code",
      "source": [
        "df.head(7)"
      ],
      "metadata": {
        "id": "zDnnFd4udUtJ",
        "colab": {
          "base_uri": "https://localhost:8080/",
          "height": 269
        },
        "outputId": "15563baa-7fa8-48a9-f1e6-a759306eec63"
      },
      "execution_count": null,
      "outputs": [
        {
          "output_type": "execute_result",
          "data": {
            "text/plain": [
              "        t-7       t-6       t-5       t-4       t-3       t-2       t-1  \\\n",
              "0  0.294248  0.203540  0.246681  0.240044  0.428097  0.324115  0.342920   \n",
              "1  0.203540  0.246681  0.240044  0.428097  0.324115  0.342920  0.277655   \n",
              "2  0.246681  0.240044  0.428097  0.324115  0.342920  0.277655  0.247788   \n",
              "3  0.240044  0.428097  0.324115  0.342920  0.277655  0.247788  0.162611   \n",
              "4  0.428097  0.324115  0.342920  0.277655  0.247788  0.162611  0.230088   \n",
              "5  0.324115  0.342920  0.277655  0.247788  0.162611  0.230088  0.179204   \n",
              "6  0.342920  0.277655  0.247788  0.162611  0.230088  0.179204  0.228982   \n",
              "\n",
              "          t  \n",
              "0  0.277655  \n",
              "1  0.247788  \n",
              "2  0.162611  \n",
              "3  0.230088  \n",
              "4  0.179204  \n",
              "5  0.228982  \n",
              "6  0.313053  "
            ],
            "text/html": [
              "\n",
              "  <div id=\"df-dac3b22b-9e1c-4a80-af45-1b975f3c98f9\" class=\"colab-df-container\">\n",
              "    <div>\n",
              "<style scoped>\n",
              "    .dataframe tbody tr th:only-of-type {\n",
              "        vertical-align: middle;\n",
              "    }\n",
              "\n",
              "    .dataframe tbody tr th {\n",
              "        vertical-align: top;\n",
              "    }\n",
              "\n",
              "    .dataframe thead th {\n",
              "        text-align: right;\n",
              "    }\n",
              "</style>\n",
              "<table border=\"1\" class=\"dataframe\">\n",
              "  <thead>\n",
              "    <tr style=\"text-align: right;\">\n",
              "      <th></th>\n",
              "      <th>t-7</th>\n",
              "      <th>t-6</th>\n",
              "      <th>t-5</th>\n",
              "      <th>t-4</th>\n",
              "      <th>t-3</th>\n",
              "      <th>t-2</th>\n",
              "      <th>t-1</th>\n",
              "      <th>t</th>\n",
              "    </tr>\n",
              "  </thead>\n",
              "  <tbody>\n",
              "    <tr>\n",
              "      <th>0</th>\n",
              "      <td>0.294248</td>\n",
              "      <td>0.203540</td>\n",
              "      <td>0.246681</td>\n",
              "      <td>0.240044</td>\n",
              "      <td>0.428097</td>\n",
              "      <td>0.324115</td>\n",
              "      <td>0.342920</td>\n",
              "      <td>0.277655</td>\n",
              "    </tr>\n",
              "    <tr>\n",
              "      <th>1</th>\n",
              "      <td>0.203540</td>\n",
              "      <td>0.246681</td>\n",
              "      <td>0.240044</td>\n",
              "      <td>0.428097</td>\n",
              "      <td>0.324115</td>\n",
              "      <td>0.342920</td>\n",
              "      <td>0.277655</td>\n",
              "      <td>0.247788</td>\n",
              "    </tr>\n",
              "    <tr>\n",
              "      <th>2</th>\n",
              "      <td>0.246681</td>\n",
              "      <td>0.240044</td>\n",
              "      <td>0.428097</td>\n",
              "      <td>0.324115</td>\n",
              "      <td>0.342920</td>\n",
              "      <td>0.277655</td>\n",
              "      <td>0.247788</td>\n",
              "      <td>0.162611</td>\n",
              "    </tr>\n",
              "    <tr>\n",
              "      <th>3</th>\n",
              "      <td>0.240044</td>\n",
              "      <td>0.428097</td>\n",
              "      <td>0.324115</td>\n",
              "      <td>0.342920</td>\n",
              "      <td>0.277655</td>\n",
              "      <td>0.247788</td>\n",
              "      <td>0.162611</td>\n",
              "      <td>0.230088</td>\n",
              "    </tr>\n",
              "    <tr>\n",
              "      <th>4</th>\n",
              "      <td>0.428097</td>\n",
              "      <td>0.324115</td>\n",
              "      <td>0.342920</td>\n",
              "      <td>0.277655</td>\n",
              "      <td>0.247788</td>\n",
              "      <td>0.162611</td>\n",
              "      <td>0.230088</td>\n",
              "      <td>0.179204</td>\n",
              "    </tr>\n",
              "    <tr>\n",
              "      <th>5</th>\n",
              "      <td>0.324115</td>\n",
              "      <td>0.342920</td>\n",
              "      <td>0.277655</td>\n",
              "      <td>0.247788</td>\n",
              "      <td>0.162611</td>\n",
              "      <td>0.230088</td>\n",
              "      <td>0.179204</td>\n",
              "      <td>0.228982</td>\n",
              "    </tr>\n",
              "    <tr>\n",
              "      <th>6</th>\n",
              "      <td>0.342920</td>\n",
              "      <td>0.277655</td>\n",
              "      <td>0.247788</td>\n",
              "      <td>0.162611</td>\n",
              "      <td>0.230088</td>\n",
              "      <td>0.179204</td>\n",
              "      <td>0.228982</td>\n",
              "      <td>0.313053</td>\n",
              "    </tr>\n",
              "  </tbody>\n",
              "</table>\n",
              "</div>\n",
              "    <div class=\"colab-df-buttons\">\n",
              "\n",
              "  <div class=\"colab-df-container\">\n",
              "    <button class=\"colab-df-convert\" onclick=\"convertToInteractive('df-dac3b22b-9e1c-4a80-af45-1b975f3c98f9')\"\n",
              "            title=\"Convert this dataframe to an interactive table.\"\n",
              "            style=\"display:none;\">\n",
              "\n",
              "  <svg xmlns=\"http://www.w3.org/2000/svg\" height=\"24px\" viewBox=\"0 -960 960 960\">\n",
              "    <path d=\"M120-120v-720h720v720H120Zm60-500h600v-160H180v160Zm220 220h160v-160H400v160Zm0 220h160v-160H400v160ZM180-400h160v-160H180v160Zm440 0h160v-160H620v160ZM180-180h160v-160H180v160Zm440 0h160v-160H620v160Z\"/>\n",
              "  </svg>\n",
              "    </button>\n",
              "\n",
              "  <style>\n",
              "    .colab-df-container {\n",
              "      display:flex;\n",
              "      gap: 12px;\n",
              "    }\n",
              "\n",
              "    .colab-df-convert {\n",
              "      background-color: #E8F0FE;\n",
              "      border: none;\n",
              "      border-radius: 50%;\n",
              "      cursor: pointer;\n",
              "      display: none;\n",
              "      fill: #1967D2;\n",
              "      height: 32px;\n",
              "      padding: 0 0 0 0;\n",
              "      width: 32px;\n",
              "    }\n",
              "\n",
              "    .colab-df-convert:hover {\n",
              "      background-color: #E2EBFA;\n",
              "      box-shadow: 0px 1px 2px rgba(60, 64, 67, 0.3), 0px 1px 3px 1px rgba(60, 64, 67, 0.15);\n",
              "      fill: #174EA6;\n",
              "    }\n",
              "\n",
              "    .colab-df-buttons div {\n",
              "      margin-bottom: 4px;\n",
              "    }\n",
              "\n",
              "    [theme=dark] .colab-df-convert {\n",
              "      background-color: #3B4455;\n",
              "      fill: #D2E3FC;\n",
              "    }\n",
              "\n",
              "    [theme=dark] .colab-df-convert:hover {\n",
              "      background-color: #434B5C;\n",
              "      box-shadow: 0px 1px 3px 1px rgba(0, 0, 0, 0.15);\n",
              "      filter: drop-shadow(0px 1px 2px rgba(0, 0, 0, 0.3));\n",
              "      fill: #FFFFFF;\n",
              "    }\n",
              "  </style>\n",
              "\n",
              "    <script>\n",
              "      const buttonEl =\n",
              "        document.querySelector('#df-dac3b22b-9e1c-4a80-af45-1b975f3c98f9 button.colab-df-convert');\n",
              "      buttonEl.style.display =\n",
              "        google.colab.kernel.accessAllowed ? 'block' : 'none';\n",
              "\n",
              "      async function convertToInteractive(key) {\n",
              "        const element = document.querySelector('#df-dac3b22b-9e1c-4a80-af45-1b975f3c98f9');\n",
              "        const dataTable =\n",
              "          await google.colab.kernel.invokeFunction('convertToInteractive',\n",
              "                                                    [key], {});\n",
              "        if (!dataTable) return;\n",
              "\n",
              "        const docLinkHtml = 'Like what you see? Visit the ' +\n",
              "          '<a target=\"_blank\" href=https://colab.research.google.com/notebooks/data_table.ipynb>data table notebook</a>'\n",
              "          + ' to learn more about interactive tables.';\n",
              "        element.innerHTML = '';\n",
              "        dataTable['output_type'] = 'display_data';\n",
              "        await google.colab.output.renderOutput(dataTable, element);\n",
              "        const docLink = document.createElement('div');\n",
              "        docLink.innerHTML = docLinkHtml;\n",
              "        element.appendChild(docLink);\n",
              "      }\n",
              "    </script>\n",
              "  </div>\n",
              "\n",
              "\n",
              "<div id=\"df-ffe5bcac-ca85-4d28-8469-c145fd523a8d\">\n",
              "  <button class=\"colab-df-quickchart\" onclick=\"quickchart('df-ffe5bcac-ca85-4d28-8469-c145fd523a8d')\"\n",
              "            title=\"Suggest charts\"\n",
              "            style=\"display:none;\">\n",
              "\n",
              "<svg xmlns=\"http://www.w3.org/2000/svg\" height=\"24px\"viewBox=\"0 0 24 24\"\n",
              "     width=\"24px\">\n",
              "    <g>\n",
              "        <path d=\"M19 3H5c-1.1 0-2 .9-2 2v14c0 1.1.9 2 2 2h14c1.1 0 2-.9 2-2V5c0-1.1-.9-2-2-2zM9 17H7v-7h2v7zm4 0h-2V7h2v10zm4 0h-2v-4h2v4z\"/>\n",
              "    </g>\n",
              "</svg>\n",
              "  </button>\n",
              "\n",
              "<style>\n",
              "  .colab-df-quickchart {\n",
              "      --bg-color: #E8F0FE;\n",
              "      --fill-color: #1967D2;\n",
              "      --hover-bg-color: #E2EBFA;\n",
              "      --hover-fill-color: #174EA6;\n",
              "      --disabled-fill-color: #AAA;\n",
              "      --disabled-bg-color: #DDD;\n",
              "  }\n",
              "\n",
              "  [theme=dark] .colab-df-quickchart {\n",
              "      --bg-color: #3B4455;\n",
              "      --fill-color: #D2E3FC;\n",
              "      --hover-bg-color: #434B5C;\n",
              "      --hover-fill-color: #FFFFFF;\n",
              "      --disabled-bg-color: #3B4455;\n",
              "      --disabled-fill-color: #666;\n",
              "  }\n",
              "\n",
              "  .colab-df-quickchart {\n",
              "    background-color: var(--bg-color);\n",
              "    border: none;\n",
              "    border-radius: 50%;\n",
              "    cursor: pointer;\n",
              "    display: none;\n",
              "    fill: var(--fill-color);\n",
              "    height: 32px;\n",
              "    padding: 0;\n",
              "    width: 32px;\n",
              "  }\n",
              "\n",
              "  .colab-df-quickchart:hover {\n",
              "    background-color: var(--hover-bg-color);\n",
              "    box-shadow: 0 1px 2px rgba(60, 64, 67, 0.3), 0 1px 3px 1px rgba(60, 64, 67, 0.15);\n",
              "    fill: var(--button-hover-fill-color);\n",
              "  }\n",
              "\n",
              "  .colab-df-quickchart-complete:disabled,\n",
              "  .colab-df-quickchart-complete:disabled:hover {\n",
              "    background-color: var(--disabled-bg-color);\n",
              "    fill: var(--disabled-fill-color);\n",
              "    box-shadow: none;\n",
              "  }\n",
              "\n",
              "  .colab-df-spinner {\n",
              "    border: 2px solid var(--fill-color);\n",
              "    border-color: transparent;\n",
              "    border-bottom-color: var(--fill-color);\n",
              "    animation:\n",
              "      spin 1s steps(1) infinite;\n",
              "  }\n",
              "\n",
              "  @keyframes spin {\n",
              "    0% {\n",
              "      border-color: transparent;\n",
              "      border-bottom-color: var(--fill-color);\n",
              "      border-left-color: var(--fill-color);\n",
              "    }\n",
              "    20% {\n",
              "      border-color: transparent;\n",
              "      border-left-color: var(--fill-color);\n",
              "      border-top-color: var(--fill-color);\n",
              "    }\n",
              "    30% {\n",
              "      border-color: transparent;\n",
              "      border-left-color: var(--fill-color);\n",
              "      border-top-color: var(--fill-color);\n",
              "      border-right-color: var(--fill-color);\n",
              "    }\n",
              "    40% {\n",
              "      border-color: transparent;\n",
              "      border-right-color: var(--fill-color);\n",
              "      border-top-color: var(--fill-color);\n",
              "    }\n",
              "    60% {\n",
              "      border-color: transparent;\n",
              "      border-right-color: var(--fill-color);\n",
              "    }\n",
              "    80% {\n",
              "      border-color: transparent;\n",
              "      border-right-color: var(--fill-color);\n",
              "      border-bottom-color: var(--fill-color);\n",
              "    }\n",
              "    90% {\n",
              "      border-color: transparent;\n",
              "      border-bottom-color: var(--fill-color);\n",
              "    }\n",
              "  }\n",
              "</style>\n",
              "\n",
              "  <script>\n",
              "    async function quickchart(key) {\n",
              "      const quickchartButtonEl =\n",
              "        document.querySelector('#' + key + ' button');\n",
              "      quickchartButtonEl.disabled = true;  // To prevent multiple clicks.\n",
              "      quickchartButtonEl.classList.add('colab-df-spinner');\n",
              "      try {\n",
              "        const charts = await google.colab.kernel.invokeFunction(\n",
              "            'suggestCharts', [key], {});\n",
              "      } catch (error) {\n",
              "        console.error('Error during call to suggestCharts:', error);\n",
              "      }\n",
              "      quickchartButtonEl.classList.remove('colab-df-spinner');\n",
              "      quickchartButtonEl.classList.add('colab-df-quickchart-complete');\n",
              "    }\n",
              "    (() => {\n",
              "      let quickchartButtonEl =\n",
              "        document.querySelector('#df-ffe5bcac-ca85-4d28-8469-c145fd523a8d button');\n",
              "      quickchartButtonEl.style.display =\n",
              "        google.colab.kernel.accessAllowed ? 'block' : 'none';\n",
              "    })();\n",
              "  </script>\n",
              "</div>\n",
              "\n",
              "    </div>\n",
              "  </div>\n"
            ],
            "application/vnd.google.colaboratory.intrinsic+json": {
              "type": "dataframe",
              "variable_name": "df",
              "summary": "{\n  \"name\": \"df\",\n  \"rows\": 192,\n  \"fields\": [\n    {\n      \"column\": \"t-7\",\n      \"properties\": {\n        \"dtype\": \"number\",\n        \"std\": 0.18578297162083982,\n        \"min\": 0.0,\n        \"max\": 1.0,\n        \"num_unique_values\": 152,\n        \"samples\": [\n          0.34402651214610797,\n          0.308628315666622,\n          0.0\n        ],\n        \"semantic_type\": \"\",\n        \"description\": \"\"\n      }\n    },\n    {\n      \"column\": \"t-6\",\n      \"properties\": {\n        \"dtype\": \"number\",\n        \"std\": 0.18622534280131892,\n        \"min\": 0.0,\n        \"max\": 1.0,\n        \"num_unique_values\": 153,\n        \"samples\": [\n          0.3971238068653369,\n          0.2931416574543204,\n          0.05641595476039091\n        ],\n        \"semantic_type\": \"\",\n        \"description\": \"\"\n      }\n    },\n    {\n      \"column\": \"t-5\",\n      \"properties\": {\n        \"dtype\": \"number\",\n        \"std\": 0.18644252120661287,\n        \"min\": 0.0,\n        \"max\": 1.0,\n        \"num_unique_values\": 152,\n        \"samples\": [\n          0.3351769630262365,\n          0.2953538864918679,\n          0.05641595476039091\n        ],\n        \"semantic_type\": \"\",\n        \"description\": \"\"\n      }\n    },\n    {\n      \"column\": \"t-4\",\n      \"properties\": {\n        \"dtype\": \"number\",\n        \"std\": 0.18651238607475223,\n        \"min\": 0.0,\n        \"max\": 1.0,\n        \"num_unique_values\": 151,\n        \"samples\": [\n          0.28871677739943774,\n          0.19911506618700225,\n          0.3971238068653369\n        ],\n        \"semantic_type\": \"\",\n        \"description\": \"\"\n      }\n    },\n    {\n      \"column\": \"t-3\",\n      \"properties\": {\n        \"dtype\": \"number\",\n        \"std\": 0.1864453418644708,\n        \"min\": 0.0,\n        \"max\": 1.0,\n        \"num_unique_values\": 151,\n        \"samples\": [\n          0.24336281178635966,\n          0.18473441699852738,\n          0.34623895217354933\n        ],\n        \"semantic_type\": \"\",\n        \"description\": \"\"\n      }\n    },\n    {\n      \"column\": \"t-2\",\n      \"properties\": {\n        \"dtype\": \"number\",\n        \"std\": 0.1862801199175592,\n        \"min\": 0.0,\n        \"max\": 1.0,\n        \"num_unique_values\": 150,\n        \"samples\": [\n          0.25663724096111384,\n          0.10287614038718966,\n          0.12721234771936277\n        ],\n        \"semantic_type\": \"\",\n        \"description\": \"\"\n      }\n    },\n    {\n      \"column\": \"t-1\",\n      \"properties\": {\n        \"dtype\": \"number\",\n        \"std\": 0.18629321063473064,\n        \"min\": 0.0,\n        \"max\": 1.0,\n        \"num_unique_values\": 150,\n        \"samples\": [\n          0.28871677739943774,\n          0.14269911142661132,\n          0.10619469493340473\n        ],\n        \"semantic_type\": \"\",\n        \"description\": \"\"\n      }\n    },\n    {\n      \"column\": \"t\",\n      \"properties\": {\n        \"dtype\": \"number\",\n        \"std\": 0.18664468264671893,\n        \"min\": 0.0,\n        \"max\": 1.0,\n        \"num_unique_values\": 151,\n        \"samples\": [\n          0.5022123872799679,\n          0.18584063701224807,\n          0.24999992087878978\n        ],\n        \"semantic_type\": \"\",\n        \"description\": \"\"\n      }\n    }\n  ]\n}"
            }
          },
          "metadata": {},
          "execution_count": 89
        }
      ]
    },
    {
      "cell_type": "markdown",
      "source": [
        "Armazenados como Tensores e separados nos conjuntos de Treinamento e Teste como antes. Note a dimensão dos Tensores."
      ],
      "metadata": {
        "id": "ehpJZ0CWbffa"
      }
    },
    {
      "cell_type": "code",
      "source": [
        "X = df.drop(columns='t')\n",
        "y = df[['t']]\n",
        "\n",
        "X = torch.tensor(np.array(X)).unsqueeze(-1)\n",
        "y = torch.tensor(np.array(y))\n",
        "\n",
        "X = X.type(torch.float)\n",
        "y = y.type(torch.float)\n",
        "\n",
        "X_train, y_train, X_test, y_test = split_train_test(X, y, test_perc=0.2)"
      ],
      "metadata": {
        "id": "zZ-uXxx3Un2S"
      },
      "execution_count": null,
      "outputs": []
    },
    {
      "cell_type": "code",
      "source": [
        "X.shape"
      ],
      "metadata": {
        "id": "bdLkOEGHU7_Z",
        "colab": {
          "base_uri": "https://localhost:8080/"
        },
        "outputId": "a2241b07-95d4-4f93-f761-de92ae3ea1f0"
      },
      "execution_count": null,
      "outputs": [
        {
          "output_type": "execute_result",
          "data": {
            "text/plain": [
              "torch.Size([192, 7, 1])"
            ]
          },
          "metadata": {},
          "execution_count": 91
        }
      ]
    },
    {
      "cell_type": "code",
      "source": [
        "y.shape"
      ],
      "metadata": {
        "id": "cnafwIwuU-wi",
        "colab": {
          "base_uri": "https://localhost:8080/"
        },
        "outputId": "f1504ae9-13ca-4346-d64f-cbbb48cdcbe0"
      },
      "execution_count": null,
      "outputs": [
        {
          "output_type": "execute_result",
          "data": {
            "text/plain": [
              "torch.Size([192, 1])"
            ]
          },
          "metadata": {},
          "execution_count": 92
        }
      ]
    },
    {
      "cell_type": "markdown",
      "source": [
        "###### Modelo da Rede e Treinamento\n",
        "\n",
        "As duas funções a seguir são modelos bastante típicos de definição de uma rede e do seu treinamento e você, se tiver interesse, pode encontrar inúmeras referências e tutoriais dessas funções no site do projeto https://pytorch.org/."
      ],
      "metadata": {
        "id": "oKWrEuYYbym5"
      }
    },
    {
      "cell_type": "markdown",
      "source": [
        "######## Classe de Definição da Rede LSTM"
      ],
      "metadata": {
        "id": "sZLFjqnpckwP"
      }
    },
    {
      "cell_type": "code",
      "source": [
        "class LSTM(nn.Module):\n",
        "\n",
        "    def __init__(self, input_size, hidden_size, num_layers):\n",
        "        super(LSTM, self).__init__()\n",
        "        self.hidden_size = hidden_size\n",
        "        self.num_layers = num_layers\n",
        "        self.lstm = nn.LSTM(input_size, hidden_size, num_layers, batch_first=True)\n",
        "        self.fc = nn.Linear(hidden_size, 1)\n",
        "\n",
        "    def forward(self, x):\n",
        "        out, (h_out, cn) = self.lstm(x)\n",
        "\n",
        "        h_out = h_out[-1]                         ## saída da última camada para a camada fc\n",
        "        h_out = h_out.view(-1,self.hidden_size)\n",
        "        out_final = self.fc(h_out)\n",
        "\n",
        "        return out_final"
      ],
      "metadata": {
        "id": "ANiO-4lAVT5r"
      },
      "execution_count": null,
      "outputs": []
    },
    {
      "cell_type": "markdown",
      "source": [
        "######## Classe de Treinamento da Rede\n",
        "\n",
        "De modo análogo a um modelo neural em camadas o aprendizado, ou o ajuste dos pesos da rede, se dá de forma iterativa e emprega um otimizador que busca a cada etapa do treinamento encontrar valores para os pesos que minimizem o erro de saída do modelo."
      ],
      "metadata": {
        "id": "wxiKX8EgcvO1"
      }
    },
    {
      "cell_type": "code",
      "source": [
        "def train(model, optmizer, loss_f, num_epochs, data_train_x, data_train_y):\n",
        "\n",
        "  for epoch in range(num_epochs):\n",
        "\n",
        "    outputs = model(data_train_x)\n",
        "    loss = loss_f(outputs, data_train_y)\n",
        "\n",
        "    optimizer.zero_grad()\n",
        "    loss.backward()\n",
        "\n",
        "    optimizer.step()\n",
        "    if epoch % 500 == 0:\n",
        "      print(\"Epoch: %d, loss: %1.5f\" % (epoch, loss.item()))"
      ],
      "metadata": {
        "id": "p1MzA_TPVWu7"
      },
      "execution_count": null,
      "outputs": []
    },
    {
      "cell_type": "code",
      "metadata": {
        "id": "stjtbfENdV1p",
        "colab": {
          "base_uri": "https://localhost:8080/"
        },
        "outputId": "ef562b04-f66c-41c8-ffd3-df3a4110f705"
      },
      "source": [
        "num_epochs = 2000\n",
        "learning_rate = 0.01\n",
        "\n",
        "input_size = 1 ## input size!!! uma única série de dados\n",
        "hidden_size = 8\n",
        "\n",
        "for num_layers in range(2,3):\n",
        "\n",
        "  model = LSTM(input_size, hidden_size, num_layers)\n",
        "\n",
        "  loss_function = torch.nn.MSELoss()\n",
        "  optimizer = torch.optim.Adam(model.parameters(), lr=learning_rate)\n",
        "\n",
        "  train(model, optimizer, loss_function, num_epochs, X_train, y_train)\n",
        "\n",
        "  model.eval()\n"
      ],
      "execution_count": null,
      "outputs": [
        {
          "output_type": "stream",
          "name": "stdout",
          "text": [
            "Epoch: 0, loss: 0.28797\n",
            "Epoch: 500, loss: 0.00338\n",
            "Epoch: 1000, loss: 0.00285\n",
            "Epoch: 1500, loss: 0.00269\n"
          ]
        }
      ]
    },
    {
      "cell_type": "code",
      "source": [
        "prediction = model(X)\n",
        "data_predict = prediction.data.numpy()\n"
      ],
      "metadata": {
        "id": "1wvwPBBdeGyZ"
      },
      "execution_count": null,
      "outputs": []
    },
    {
      "cell_type": "markdown",
      "source": [
        "#6_"
      ],
      "metadata": {
        "id": "-YU2U_27--re"
      }
    },
    {
      "cell_type": "code",
      "source": [
        "LSTM_graf = plot_forecast(df[['t']] , data_predict, X_train, title='AVIR predict - LSTM Deep Learning Regressor')\n",
        "LSTM_graf"
      ],
      "metadata": {
        "id": "XBqyI5mag0bA",
        "colab": {
          "base_uri": "https://localhost:8080/",
          "height": 414
        },
        "outputId": "826b6c96-ad9f-4efa-e149-7d1e62b3d5bf"
      },
      "execution_count": null,
      "outputs": [
        {
          "output_type": "display_data",
          "data": {
            "text/plain": [
              "<Figure size 700x400 with 1 Axes>"
            ],
            "image/png": "[encoded data removed]"
          },
          "metadata": {}
        }
      ]
    },
    {
      "cell_type": "markdown",
      "source": [
        "Para obtermos as métricas nas mesmas medidas dos modelos anteriores vamos reescalar novamente os dados voltando aos valores originais antes da normalização."
      ],
      "metadata": {
        "id": "4PPKM3o4g_-6"
      }
    },
    {
      "cell_type": "code",
      "source": [
        "y_forecast = data_predict[train_size::].reshape(-1) * (max - min) + min\n",
        "y_real = np.array( y[train_size::] ).reshape(-1) * (max - min) + min\n",
        "\n",
        "cur_metrics = forecast_accuracy(y_forecast, y_real)\n",
        "\n",
        "dict_metrics['LSTM Deep Learning Regressor'] = cur_metrics"
      ],
      "metadata": {
        "id": "EDi1BOriglGj",
        "colab": {
          "base_uri": "https://localhost:8080/"
        },
        "outputId": "eeead72f-de68-475c-c6ee-086437ffc15a"
      },
      "execution_count": null,
      "outputs": [
        {
          "output_type": "stream",
          "name": "stdout",
          "text": [
            "MSE: \t 0.62\n",
            "MAPE: \t 0.03\n",
            "ME: \t -0.22\n",
            "MAE: \t 0.59\n",
            "MPE: \t -0.01\n",
            "RMSE: \t 0.79\n",
            "ACF1: \t 0.42\n",
            "CORR: \t 0.64\n"
          ]
        }
      ]
    },
    {
      "cell_type": "code",
      "source": [
        "dict_metrics['LSTM Deep Learning Regressor']"
      ],
      "metadata": {
        "colab": {
          "base_uri": "https://localhost:8080/"
        },
        "id": "LFLYBa_G9qVv",
        "outputId": "685bbf6f-0084-42a4-b8be-eb64b26f0adc"
      },
      "execution_count": null,
      "outputs": [
        {
          "output_type": "execute_result",
          "data": {
            "text/plain": [
              "{'MSE': 0.62337327,\n",
              " 'MAPE': 0.03347884,\n",
              " 'ME': -0.2187841,\n",
              " 'MAE': 0.59256446,\n",
              " 'MPE': -0.011456997,\n",
              " 'RMSE': 0.7895399103495593,\n",
              " 'ACF1': 0.41637352595612515,\n",
              " 'CORR': 0.6444291661030235}"
            ]
          },
          "metadata": {},
          "execution_count": 102
        }
      ]
    },
    {
      "cell_type": "markdown",
      "source": [
        "---"
      ],
      "metadata": {
        "id": "KXF4TUvi9T2_"
      }
    },
    {
      "cell_type": "markdown",
      "source": [
        "Resumo"
      ],
      "metadata": {
        "id": "ukmcAoPk9RKo"
      }
    }
  ]
}